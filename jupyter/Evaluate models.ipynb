{
 "cells": [
  {
   "cell_type": "code",
   "execution_count": 136,
   "metadata": {
    "collapsed": true,
    "deletable": true,
    "editable": true
   },
   "outputs": [],
   "source": [
    "import sys\n",
    "import os\n",
    "import torch\n",
    "import torch.nn as nn\n",
    "import torch.nn.functional as F\n",
    "from torchtext import data\n",
    "import nltk\n",
    "import numpy as np\n",
    "from argparse import ArgumentParser\n",
    "from sklearn import metrics\n",
    "import matplotlib.pyplot as plt\n",
    "import itertools\n",
    "from matplotlib import rcParams\n",
    "rcParams['axes.titlepad'] = 20 \n",
    "rcParams['axes.labelpad'] = 15\n",
    "%matplotlib inline"
   ]
  },
  {
   "cell_type": "code",
   "execution_count": 2,
   "metadata": {
    "collapsed": false,
    "deletable": true,
    "editable": true
   },
   "outputs": [
    {
     "data": {
      "text/plain": [
       "'/scratch/jmw784/nlp-multinli/models'"
      ]
     },
     "execution_count": 2,
     "metadata": {},
     "output_type": "execute_result"
    }
   ],
   "source": [
    "os.chdir('../models')\n",
    "os.getcwd()"
   ]
  },
  {
   "cell_type": "code",
   "execution_count": 3,
   "metadata": {
    "collapsed": false,
    "deletable": true,
    "editable": true
   },
   "outputs": [],
   "source": [
    "from models import ConcatModel, CosineModel, ESIM\n",
    "\n",
    "sys.path.append('../utilities')\n",
    "from tokenizers import custom_tokenizer\n",
    "from utils import get_dataset, get_args"
   ]
  },
  {
   "cell_type": "markdown",
   "metadata": {
    "deletable": true,
    "editable": true
   },
   "source": [
    "# Loading arguments"
   ]
  },
  {
   "cell_type": "markdown",
   "metadata": {
    "deletable": true,
    "editable": true
   },
   "source": [
    "If you want to get the config from the slurm file"
   ]
  },
  {
   "cell_type": "code",
   "execution_count": 4,
   "metadata": {
    "collapsed": false,
    "deletable": true,
    "editable": true
   },
   "outputs": [],
   "source": [
    "F = open('../slurm/main.slurm','r')\n",
    "options = F.read().split('main.py ')[1].strip('\\n')"
   ]
  },
  {
   "cell_type": "markdown",
   "metadata": {
    "deletable": true,
    "editable": true
   },
   "source": [
    "Else, if you want to paste the args here:"
   ]
  },
  {
   "cell_type": "code",
   "execution_count": 5,
   "metadata": {
    "collapsed": false,
    "deletable": true,
    "editable": true
   },
   "outputs": [],
   "source": [
    "options = '--cuda --save_model --model_type ESIM --max_vocab_size 15000 --n_epochs 15 --batch_size 64 --d_embed 300 --d_hidden 200 --n_layers 1 --lr 0.001 --dropout_emb 0.2 --dropout_rnn 0.0 --dropout_mlp 0.5 --word_vectors glove.6B.300d --bidir --dev_every 1550'"
   ]
  },
  {
   "cell_type": "code",
   "execution_count": 6,
   "metadata": {
    "collapsed": true,
    "deletable": true,
    "editable": true
   },
   "outputs": [],
   "source": [
    "options = options.split(' ')\n",
    "sys.argv = options\n",
    "args = get_args()"
   ]
  },
  {
   "cell_type": "code",
   "execution_count": 7,
   "metadata": {
    "collapsed": false,
    "deletable": true,
    "editable": true
   },
   "outputs": [
    {
     "data": {
      "text/plain": [
       "Namespace(batch_size=64, bidir=True, cuda=False, d_embed=300, d_hidden=200, dev_every=1550, dropout_emb=0.2, dropout_mlp=0.5, dropout_rnn=0.0, load_model='', lr=0.001, max_vocab_size=15000, model_type='ESIM', n_epochs=15, n_layers=1, n_linear_layers=3, save_model=True, sentence_len=None, val_set='val_matched', word_vectors='glove.6B.300d')"
      ]
     },
     "execution_count": 7,
     "metadata": {},
     "output_type": "execute_result"
    }
   ],
   "source": [
    "args"
   ]
  },
  {
   "cell_type": "markdown",
   "metadata": {
    "deletable": true,
    "editable": true
   },
   "source": [
    "# Build datasets"
   ]
  },
  {
   "cell_type": "code",
   "execution_count": 8,
   "metadata": {
    "collapsed": false,
    "deletable": true,
    "editable": true
   },
   "outputs": [
    {
     "name": "stdout",
     "output_type": "stream",
     "text": [
      "[nltk_data] Downloading package punkt to /scratch/jmw784/nlp-\n",
      "[nltk_data]     multinli/models/nltk_data...\n",
      "[nltk_data]   Package punkt is already up-to-date!\n"
     ]
    }
   ],
   "source": [
    "nltk_path = os.getcwd() + '/nltk_data'\n",
    "nltk.download('punkt', download_dir=nltk_path)\n",
    "nltk.data.path.append(nltk_path)"
   ]
  },
  {
   "cell_type": "code",
   "execution_count": 9,
   "metadata": {
    "collapsed": false,
    "deletable": true,
    "editable": true
   },
   "outputs": [
    {
     "name": "stdout",
     "output_type": "stream",
     "text": [
      "Creating Train Dataset\n",
      "Creating Val_Matched Dataset\n"
     ]
    }
   ],
   "source": [
    "text_field = data.Field(tokenize=custom_tokenizer,\n",
    "                        fix_length=args.sentence_len,\n",
    "                        unk_token='<**UNK**>')\n",
    "label_field = data.Field(sequential=False, unk_token=None)\n",
    "\n",
    "train = get_dataset(text_field, label_field, 'train')\n",
    "val = get_dataset(text_field, label_field, args.val_set)\n",
    "\n",
    "text_field.build_vocab(train, max_size=args.max_vocab_size)\n",
    "label_field.build_vocab(train, val)"
   ]
  },
  {
   "cell_type": "code",
   "execution_count": 10,
   "metadata": {
    "collapsed": true,
    "deletable": true,
    "editable": true
   },
   "outputs": [],
   "source": [
    "if args.word_vectors:\n",
    "    text_field.vocab.load_vectors(args.word_vectors)"
   ]
  },
  {
   "cell_type": "code",
   "execution_count": 11,
   "metadata": {
    "collapsed": true,
    "deletable": true,
    "editable": true
   },
   "outputs": [],
   "source": [
    "def sort_key(ex):\n",
    "    return data.interleave_keys(len(ex.premise), len(ex.hypothesis))"
   ]
  },
  {
   "cell_type": "code",
   "execution_count": 39,
   "metadata": {
    "collapsed": false,
    "deletable": true,
    "editable": true
   },
   "outputs": [],
   "source": [
    "device = -1\n",
    "train_iter, val_iter = data.BucketIterator.splits((train, val),\n",
    "                                            batch_size=args.batch_size,\n",
    "                                            shuffle = False,\n",
    "                                            sort = True,\n",
    "                                            sort_key = sort_key,\n",
    "                                            device=device)"
   ]
  },
  {
   "cell_type": "code",
   "execution_count": 80,
   "metadata": {
    "collapsed": true,
    "deletable": true,
    "editable": true
   },
   "outputs": [],
   "source": [
    "class_map = {0: 'entailment',\n",
    "           1: 'contradiction',\n",
    "           2: 'neutral'}"
   ]
  },
  {
   "cell_type": "markdown",
   "metadata": {
    "deletable": true,
    "editable": true
   },
   "source": [
    "# Load model"
   ]
  },
  {
   "cell_type": "code",
   "execution_count": 13,
   "metadata": {
    "collapsed": false,
    "deletable": true,
    "editable": true
   },
   "outputs": [],
   "source": [
    "saved_model = 'Model_ESIM_acc_72.3790_epoch_5_model.pt'\n",
    "model = torch.load('../saved_models/' + saved_model)"
   ]
  },
  {
   "cell_type": "code",
   "execution_count": 14,
   "metadata": {
    "collapsed": false,
    "deletable": true,
    "editable": true
   },
   "outputs": [
    {
     "data": {
      "text/plain": [
       "ESIM (\n",
       "  (embed): Embedding(15002, 300)\n",
       "  (emb_drop): Dropout (p = 0.2)\n",
       "  (dropout): Dropout (p = 0.5)\n",
       "  (mlp): Linear (1600 -> 200)\n",
       "  (cl): Linear (200 -> 3)\n",
       "  (premise): LSTM(300, 200, bidirectional=True)\n",
       "  (hypothesis): LSTM(300, 200, bidirectional=True)\n",
       "  (v1): LSTM(1600, 200, bidirectional=True)\n",
       "  (v2): LSTM(1600, 200, bidirectional=True)\n",
       ")"
      ]
     },
     "execution_count": 14,
     "metadata": {},
     "output_type": "execute_result"
    }
   ],
   "source": [
    "model"
   ]
  },
  {
   "cell_type": "code",
   "execution_count": 15,
   "metadata": {
    "collapsed": false,
    "deletable": true,
    "editable": true
   },
   "outputs": [],
   "source": [
    "def get_batch(data, batch_size, batch_size_fn=lambda new, count, sofar: count):\n",
    "    \"\"\"Yield elements from data in chunks of batch_size.\"\"\"\n",
    "    minibatch, size_so_far = [], 0\n",
    "    for ex in data:\n",
    "        minibatch.append(ex)\n",
    "        size_so_far = batch_size_fn(ex, len(minibatch), size_so_far)\n",
    "        if size_so_far == batch_size:\n",
    "            yield minibatch\n",
    "            minibatch, size_so_far = [], 0\n",
    "        elif size_so_far > batch_size:\n",
    "            yield minibatch[:-1]\n",
    "            minibatch, size_so_far = minibatch[-1:], batch_size_fn(ex, 1, 0)\n",
    "    if minibatch:\n",
    "        yield minibatch"
   ]
  },
  {
   "cell_type": "code",
   "execution_count": 168,
   "metadata": {
    "collapsed": false,
    "deletable": true,
    "editable": true
   },
   "outputs": [],
   "source": [
    "def evaluate(iterator, model):\n",
    "    real_iter = get_batch(iterator.data(), args.batch_size)\n",
    "    \n",
    "    model.eval()\n",
    "    n_correct = 0\n",
    "    predictions = []\n",
    "    labels = []\n",
    "    \n",
    "    premises = []\n",
    "    hypothesises = []\n",
    "    real_labels = []\n",
    "    \n",
    "    for batch, real_batch in zip(iterator, real_iter):\n",
    "        \n",
    "        real_batch.reverse()\n",
    "        out = model(batch)\n",
    "        batch_predict = torch.max(out, 1)[1].view(batch.label.size()).data\n",
    "        batch_label = batch.label.data\n",
    "        n_correct += (batch_predict == batch_label).sum()\n",
    "        predictions.extend(batch_predict.tolist())\n",
    "        labels.extend(batch_label.tolist())\n",
    "        \n",
    "        premises.extend([x.premise for x in real_batch])\n",
    "        hypothesises.extend([x.hypothesis for x in real_batch])\n",
    "        real_labels.extend([x.label for x in real_batch])\n",
    "                        \n",
    "    return n_correct,\\\n",
    "           np.array(predictions), np.array(labels),\\\n",
    "           np.array(premises), np.array(hypothesises), np.array(real_labels)"
   ]
  },
  {
   "cell_type": "code",
   "execution_count": 169,
   "metadata": {
    "collapsed": false,
    "deletable": true,
    "editable": true
   },
   "outputs": [],
   "source": [
    "def plot_confusion_matrix(true_values, predicted_values,\n",
    "                          class_map = class_map,\n",
    "                          classes = [0, 1, 2], \n",
    "                          normalize=True,\n",
    "                          title='Confusion matrix',\n",
    "                          cmap=plt.cm.Blues):\n",
    "    \"\"\"\n",
    "    This function prints and plots the confusion matrix.\n",
    "    Normalization can be applied by setting `normalize=True`.\n",
    "    \"\"\"\n",
    "    cm = metrics.confusion_matrix(true_values, predicted_values, labels = classes)\n",
    "\n",
    "    fig, ax = plt.subplots(figsize=(8,6))\n",
    "    plt.imshow(cm, interpolation='nearest', cmap=cmap)\n",
    "    ax.set_title(title, fontsize=16, fontweight='bold')\n",
    "    plt.colorbar()\n",
    "    tick_marks = np.arange(len(classes))\n",
    "    plt.xticks(tick_marks, [class_map[i] for i in classes])\n",
    "    plt.yticks(tick_marks, [class_map[i] for i in classes])\n",
    "\n",
    "    if normalize:\n",
    "        cm = np.around(100 * cm.astype('float') / cm.sum(axis=1)[:, np.newaxis], decimals=2)\n",
    "        print(\"Normalized confusion matrix\")\n",
    "    else:\n",
    "        print('Confusion matrix, without normalization')\n",
    "\n",
    "    print(cm)\n",
    "\n",
    "    thresh = cm.max() / 2.\n",
    "    for i, j in itertools.product(range(cm.shape[0]), range(cm.shape[1])):\n",
    "        plt.text(j, i, '{0}%'.format(cm[i, j]),\n",
    "                 horizontalalignment=\"center\",\n",
    "                 color=\"white\" if cm[i, j] > thresh else \"black\",\n",
    "                 size='large')\n",
    "\n",
    "    plt.tight_layout()\n",
    "    plt.ylabel('True label')\n",
    "    plt.xlabel('Predicted label')\n",
    "    ax.yaxis.label.set_size(14)\n",
    "    ax.xaxis.label.set_size(14)\n"
   ]
  },
  {
   "cell_type": "code",
   "execution_count": 170,
   "metadata": {
    "collapsed": false,
    "deletable": true,
    "editable": true
   },
   "outputs": [],
   "source": [
    "n_correct, predictions, labels, premises, hypotheses, real_labels = evaluate(val_iter, model)"
   ]
  },
  {
   "cell_type": "code",
   "execution_count": 171,
   "metadata": {
    "collapsed": false,
    "deletable": true,
    "editable": true
   },
   "outputs": [
    {
     "name": "stdout",
     "output_type": "stream",
     "text": [
      "Accuracy: 72.37901171676006\n"
     ]
    }
   ],
   "source": [
    "accuracy = n_correct / len(val_iter.dataset) * 100\n",
    "print(\"Accuracy: {0}\".format(accuracy))"
   ]
  },
  {
   "cell_type": "code",
   "execution_count": 172,
   "metadata": {
    "collapsed": false,
    "deletable": true,
    "editable": true
   },
   "outputs": [
    {
     "name": "stdout",
     "output_type": "stream",
     "text": [
      "Normalized confusion matrix\n",
      "[[ 76.8    8.65  14.54]\n",
      " [ 12.45  73.36  14.19]\n",
      " [ 17.55  16.01  66.44]]\n"
     ]
    },
    {
     "data": {
      "image/png": "[encoded data removed]",
      "text/plain": [
       "<matplotlib.figure.Figure at 0x2b61f55e0518>"
      ]
     },
     "metadata": {},
     "output_type": "display_data"
    }
   ],
   "source": [
    " plot_confusion_matrix(labels, predictions, title='%s - %s\\nAccuracy: %0.2f%%'\n",
    "                                                  % (args.model_type, args.val_set, accuracy))"
   ]
  },
  {
   "cell_type": "code",
   "execution_count": 198,
   "metadata": {
    "collapsed": false,
    "deletable": true,
    "editable": true
   },
   "outputs": [],
   "source": [
    "def print_samples(label, prediction, samples = 5):\n",
    "    idx = np.logical_and(labels == label, predictions == prediction)\n",
    "    n = np.sum(idx)\n",
    "    \n",
    "    selection = np.random.choice(range(n), size=samples)\n",
    "    \n",
    "    p = premises[idx][selection]\n",
    "    h = hypotheses[idx][selection]\n",
    "    \n",
    "    print('TRUE LABEL: %s\\nPREDICTION: %s\\n' % (class_map[label], class_map[prediction]))\n",
    "    \n",
    "    for i in range(samples):\n",
    "        print('Sample %s' % (i+1))\n",
    "        print('Premise: ' + ' '.join(p[i]))\n",
    "        print('Hypothesis: ' + ' '.join(h[i]))\n",
    "        print('-------------------------------------------------------\\n')"
   ]
  },
  {
   "cell_type": "code",
   "execution_count": 199,
   "metadata": {
    "collapsed": false,
    "deletable": true,
    "editable": true
   },
   "outputs": [
    {
     "name": "stdout",
     "output_type": "stream",
     "text": [
      "TRUE LABEL: entailment\n",
      "PREDICTION: entailment\n",
      "\n",
      "Sample 1\n",
      "Premise: i have been visiting an old woman in the village , she explained , `` and as lawrence told me you were with monsieur poirot i thought i would call for you . ''\n",
      "Hypothesis: there is an old woman in the village that i have been visiting .\n",
      "-------------------------------------------------------\n",
      "\n",
      "Sample 2\n",
      "Premise: around the year 1400 , fighting over the island of singapore drove the srivijaya prince parameswara to seek refuge up the peninsula coast with his orang laut pirate friends in their small fishing village of melaka .\n",
      "Hypothesis: there was fighting over singapore .\n",
      "-------------------------------------------------------\n",
      "\n",
      "Sample 3\n",
      "Premise: true yeah i know it is n't that ridiculous we have cable which helps a lot\n",
      "Hypothesis: it is n't that absurd ; we have cable , which is great .\n",
      "-------------------------------------------------------\n",
      "\n",
      "Sample 4\n",
      "Premise: sultan abdul hamid ii ( 1876 1909 ) tried to apply absolute rule to an empire staggering under a crushing foreign debt , with a fragmented population of hostile people , and succeeded only in creating ill will and dissatisfaction amongst the younger generation of educated turks .\n",
      "Hypothesis: the population was fractured during the rule of sultan adbul hamid ii , and many people were hostile to his rule .\n",
      "-------------------------------------------------------\n",
      "\n",
      "Sample 5\n",
      "Premise: very simply .\n",
      "Hypothesis: not complicatedly .\n",
      "-------------------------------------------------------\n",
      "\n",
      "TRUE LABEL: entailment\n",
      "PREDICTION: contradiction\n",
      "\n",
      "Sample 1\n",
      "Premise: and the professors who go there and you 're not going to see the professors you know you 're going to see some ta you know uh\n",
      "Hypothesis: you 're going to see the tas more than the professors .\n",
      "-------------------------------------------------------\n",
      "\n",
      "Sample 2\n",
      "Premise: the important thing is to realize that it 's way past time to move it .\n",
      "Hypothesis: it has not been moved yet in the past .\n",
      "-------------------------------------------------------\n",
      "\n",
      "Sample 3\n",
      "Premise: so unlike people who are fortunate enough to be able to afford attorneys and can go to another lawyer , our clients are simply lost in the legal system if they can not get access to it from us .\n",
      "Hypothesis: we are the only hope our clients have for legal assistance .\n",
      "-------------------------------------------------------\n",
      "\n",
      "Sample 4\n",
      "Premise: but we 're taking our time we 're going uh try to make our decision by july\n",
      "Hypothesis: we are in no rush to make a decision .\n",
      "-------------------------------------------------------\n",
      "\n",
      "Sample 5\n",
      "Premise: julius before the safe in the flat , her own question and the pause before his reply , `` nothing . '' was there really nothing ?\n",
      "Hypothesis: in the flat , julius answered her after pausing .\n",
      "-------------------------------------------------------\n",
      "\n",
      "TRUE LABEL: contradiction\n",
      "PREDICTION: entailment\n",
      "\n",
      "Sample 1\n",
      "Premise: we will also need any able bodied men to help us spike the river .\n",
      "Hypothesis: we will need disabled men to help us spike the river .\n",
      "-------------------------------------------------------\n",
      "\n",
      "Sample 2\n",
      "Premise: she had thrown away her cloak and tied her hair back into a topknot to keep it out of the way .\n",
      "Hypothesis: she shaved her head .\n",
      "-------------------------------------------------------\n",
      "\n",
      "Sample 3\n",
      "Premise: it is at the moment of maximum audience susceptibility that we hear , for the first time , that the woman was fired not because of her gender but because of her sexual preference .\n",
      "Hypothesis: the woman was fired not for her sexual preference but purely on the basis of gender .\n",
      "-------------------------------------------------------\n",
      "\n",
      "Sample 4\n",
      "Premise: i mean that 's a real attractive option if you have the the technology for it all it was was you know i mean she just used a phone modem and she was like she was sitting in the office\n",
      "Hypothesis: she used a phone modem but it was very different than if she were in the office .\n",
      "-------------------------------------------------------\n",
      "\n",
      "Sample 5\n",
      "Premise: oh you know i like what i 'm doing right now\n",
      "Hypothesis: what i 'm doing now is torturous .\n",
      "-------------------------------------------------------\n",
      "\n",
      "TRUE LABEL: contradiction\n",
      "PREDICTION: contradiction\n",
      "\n",
      "Sample 1\n",
      "Premise: the do concentration must not fall below\n",
      "Hypothesis: the do concentration is irrelevant .\n",
      "-------------------------------------------------------\n",
      "\n",
      "Sample 2\n",
      "Premise: first , the comptroller general sends a written request to the agency head for the record that has not been made available to gao within a reasonable time after an initial request .\n",
      "Hypothesis: they only accept electronic submissions and throw away any hand written requests .\n",
      "-------------------------------------------------------\n",
      "\n",
      "Sample 3\n",
      "Premise: the city was founded in the third millennium b.c . on the north shore of the bay , and reached a peak during the tenth century b.c . , when it was one of the most important cities in the ionian federation the poet homer was born in s myrna during this period .\n",
      "Hypothesis: in the year 150 b.c is when the city was founded .\n",
      "-------------------------------------------------------\n",
      "\n",
      "Sample 4\n",
      "Premise: today it is possible to buy cheap papyrus printed with gaudy egyptian scenes in almost every souvenir shop in the country , but some of the most authentic are sold at the pharaonic village in cairo where the papyrus is grown , processed , and hand-painted on site .\n",
      "Hypothesis: the pharaonic village in cairo does not sell papyrus .\n",
      "-------------------------------------------------------\n",
      "\n",
      "Sample 5\n",
      "Premise: local boy gates wisely built his 45,000-square-foot castle in suburban seattle .\n",
      "Hypothesis: gates tore down his house because he is not from the seattle area .\n",
      "-------------------------------------------------------\n",
      "\n"
     ]
    }
   ],
   "source": [
    "for i in range(2):\n",
    "    for j in range(2):\n",
    "        print_samples(i, j)"
   ]
  },
  {
   "cell_type": "code",
   "execution_count": null,
   "metadata": {
    "collapsed": true
   },
   "outputs": [],
   "source": []
  }
 ],
 "metadata": {
  "kernelspec": {
   "display_name": "Python 3",
   "language": "python",
   "name": "python3"
  },
  "language_info": {
   "codemirror_mode": {
    "name": "ipython",
    "version": 3
   },
   "file_extension": ".py",
   "mimetype": "text/x-python",
   "name": "python",
   "nbconvert_exporter": "python",
   "pygments_lexer": "ipython3",
   "version": "3.5.3"
  }
 },
 "nbformat": 4,
 "nbformat_minor": 2
}
