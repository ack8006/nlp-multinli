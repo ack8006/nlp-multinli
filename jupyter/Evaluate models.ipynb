{
 "cells": [
  {
   "cell_type": "code",
   "execution_count": 1,
   "metadata": {
    "collapsed": true,
    "deletable": true,
    "editable": true
   },
   "outputs": [],
   "source": [
    "import sys\n",
    "import os\n",
    "import torch\n",
    "import torch.nn as nn\n",
    "import torch.nn.functional as F\n",
    "from torchtext import data\n",
    "import nltk\n",
    "import numpy as np\n",
    "from argparse import ArgumentParser\n",
    "from sklearn import metrics\n",
    "import matplotlib.pyplot as plt\n",
    "import itertools\n",
    "from matplotlib import rcParams\n",
    "import urllib.request\n",
    "import zipfile\n",
    "rcParams['axes.titlepad'] = 20 \n",
    "rcParams['axes.labelpad'] = 15\n",
    "%matplotlib inline"
   ]
  },
  {
   "cell_type": "code",
   "execution_count": 2,
   "metadata": {
    "collapsed": false,
    "deletable": true,
    "editable": true
   },
   "outputs": [
    {
     "data": {
      "text/plain": [
       "'/scratch/jmw784/nlp-multinli/models'"
      ]
     },
     "execution_count": 2,
     "metadata": {},
     "output_type": "execute_result"
    }
   ],
   "source": [
    "os.chdir('../models')\n",
    "os.getcwd()"
   ]
  },
  {
   "cell_type": "code",
   "execution_count": 3,
   "metadata": {
    "collapsed": false,
    "deletable": true,
    "editable": true
   },
   "outputs": [],
   "source": [
    "from models import ConcatModel, CosineModel, ESIM\n",
    "\n",
    "sys.path.append('../utilities')\n",
    "from tokenizers import custom_tokenizer\n",
    "from utils import get_dataset, get_args"
   ]
  },
  {
   "cell_type": "markdown",
   "metadata": {
    "deletable": true,
    "editable": true
   },
   "source": [
    "# Loading arguments"
   ]
  },
  {
   "cell_type": "markdown",
   "metadata": {
    "deletable": true,
    "editable": true
   },
   "source": [
    "If you want to get the config from the slurm file"
   ]
  },
  {
   "cell_type": "code",
   "execution_count": 4,
   "metadata": {
    "collapsed": false,
    "deletable": true,
    "editable": true
   },
   "outputs": [],
   "source": [
    "F = open('../slurm/main.slurm','r')\n",
    "options = F.read().split('main.py ')[1].strip('\\n')"
   ]
  },
  {
   "cell_type": "markdown",
   "metadata": {
    "deletable": true,
    "editable": true
   },
   "source": [
    "Else, if you want to paste the args here:"
   ]
  },
  {
   "cell_type": "code",
   "execution_count": 5,
   "metadata": {
    "collapsed": false,
    "deletable": true,
    "editable": true
   },
   "outputs": [],
   "source": [
    "options = '--cuda --save_model --model_type ESIM --max_vocab_size 15000 --n_epochs 15 --batch_size 64 --d_embed 300 --d_hidden 200 --n_layers 1 --lr 0.001 --dropout_emb 0.2 --dropout_rnn 0.0 --dropout_mlp 0.5 --word_vectors glove.6B.300d --bidir --dev_every 1550'"
   ]
  },
  {
   "cell_type": "code",
   "execution_count": 6,
   "metadata": {
    "collapsed": true,
    "deletable": true,
    "editable": true
   },
   "outputs": [],
   "source": [
    "options = options.split(' ')\n",
    "sys.argv = options\n",
    "args = get_args()"
   ]
  },
  {
   "cell_type": "code",
   "execution_count": 7,
   "metadata": {
    "collapsed": false,
    "deletable": true,
    "editable": true
   },
   "outputs": [
    {
     "data": {
      "text/plain": [
       "Namespace(agg_d_hidden=100, agg_n_layers=1, batch_size=64, bidir=True, cuda=False, d_embed=300, d_hidden=200, dataset='multinli', dev_every=1550, dropout_emb=0.2, dropout_mlp=0.5, dropout_rnn=0.0, intra_sentence=False, load_model='', lr=0.001, max_vocab_size=15000, model_type='ESIM', mp_dim=15, n_epochs=15, n_layers=1, n_linear_layers=3, no_comet=False, save_model=True, sentence_len=None, val_set='val_matched', word_vectors='glove.6B.300d')"
      ]
     },
     "execution_count": 7,
     "metadata": {},
     "output_type": "execute_result"
    }
   ],
   "source": [
    "args"
   ]
  },
  {
   "cell_type": "markdown",
   "metadata": {
    "deletable": true,
    "editable": true
   },
   "source": [
    "# Build datasets"
   ]
  },
  {
   "cell_type": "code",
   "execution_count": 8,
   "metadata": {
    "collapsed": false,
    "deletable": true,
    "editable": true
   },
   "outputs": [
    {
     "name": "stdout",
     "output_type": "stream",
     "text": [
      "[nltk_data] Downloading package punkt to /scratch/jmw784/nlp-\n",
      "[nltk_data]     multinli/models/nltk_data...\n",
      "[nltk_data]   Package punkt is already up-to-date!\n"
     ]
    }
   ],
   "source": [
    "nltk_path = os.getcwd() + '/nltk_data'\n",
    "nltk.download('punkt', download_dir=nltk_path)\n",
    "nltk.data.path.append(nltk_path)"
   ]
  },
  {
   "cell_type": "markdown",
   "metadata": {
    "deletable": true,
    "editable": true
   },
   "source": [
    "Remember to delete your TSV if it doesn't have the pair_field in it yet!!!"
   ]
  },
  {
   "cell_type": "code",
   "execution_count": 9,
   "metadata": {
    "collapsed": false,
    "deletable": true,
    "editable": true
   },
   "outputs": [
    {
     "name": "stdout",
     "output_type": "stream",
     "text": [
      "Creating Train Dataset\n",
      "Creating Val_Matched Dataset\n",
      "Creating Val_Mismatched Dataset\n"
     ]
    }
   ],
   "source": [
    "text_field = data.Field(tokenize=custom_tokenizer,\n",
    "                        fix_length=args.sentence_len,\n",
    "                        unk_token='<**UNK**>')\n",
    "label_field = data.Field(sequential=False, unk_token=None)\n",
    "pair_field = data.RawField()\n",
    "\n",
    "train = get_dataset(text_field, label_field, pair_field, 'train')\n",
    "val_matched = get_dataset(text_field, label_field, pair_field, 'val_matched')\n",
    "val_unmatched = get_dataset(text_field, label_field, pair_field, 'val_mismatched')\n",
    "\n",
    "text_field.build_vocab(train, max_size=args.max_vocab_size)\n",
    "label_field.build_vocab(train, val_matched, val_unmatched)"
   ]
  },
  {
   "cell_type": "code",
   "execution_count": 10,
   "metadata": {
    "collapsed": true,
    "deletable": true,
    "editable": true
   },
   "outputs": [],
   "source": [
    "def sort_key(ex):\n",
    "    return data.interleave_keys(len(ex.premise), len(ex.hypothesis))"
   ]
  },
  {
   "cell_type": "code",
   "execution_count": 11,
   "metadata": {
    "collapsed": false,
    "deletable": true,
    "editable": true
   },
   "outputs": [],
   "source": [
    "device = -1\n",
    "train_iter, val_iter_matched, val_iter_unmatched = data.BucketIterator.splits((train, val_matched, val_unmatched),\n",
    "                                            batch_size=args.batch_size,\n",
    "                                            shuffle = False,\n",
    "                                            sort = True,\n",
    "                                            sort_key = sort_key,\n",
    "                                            device=device)"
   ]
  },
  {
   "cell_type": "code",
   "execution_count": 12,
   "metadata": {
    "collapsed": true,
    "deletable": true,
    "editable": true
   },
   "outputs": [],
   "source": [
    "class_map = {0: 'entailment',\n",
    "           1: 'contradiction',\n",
    "           2: 'neutral'}"
   ]
  },
  {
   "cell_type": "markdown",
   "metadata": {
    "deletable": true,
    "editable": true
   },
   "source": [
    "# Load model"
   ]
  },
  {
   "cell_type": "code",
   "execution_count": 13,
   "metadata": {
    "collapsed": false,
    "deletable": true,
    "editable": true
   },
   "outputs": [
    {
     "name": "stderr",
     "output_type": "stream",
     "text": [
      "/share/apps/pytorch/0.2.0_3/python3.5/lib/python3.5/site-packages/torch/serialization.py:286: SourceChangeWarning: source code of class 'models.ESIM' has changed. you can retrieve the original source code by accessing the object's source attribute or set `torch.nn.Module.dump_patches = True` and use the patch tool to revert the changes.\n",
      "  warnings.warn(msg, SourceChangeWarning)\n"
     ]
    }
   ],
   "source": [
    "saved_model = 'Model_ESIM_acc_73.0413_epoch_6_model.pt'\n",
    "model = torch.load('../saved_models/' + saved_model)"
   ]
  },
  {
   "cell_type": "code",
   "execution_count": 14,
   "metadata": {
    "collapsed": false,
    "deletable": true,
    "editable": true
   },
   "outputs": [
    {
     "data": {
      "text/plain": [
       "ESIM (\n",
       "  (embed): Embedding(15002, 200)\n",
       "  (emb_drop): Dropout (p = 0.2)\n",
       "  (dropout): Dropout (p = 0.5)\n",
       "  (mlp): Linear (1600 -> 200)\n",
       "  (cl): Linear (200 -> 3)\n",
       "  (premise): LSTM(200, 200, bidirectional=True)\n",
       "  (hypothesis): LSTM(200, 200, bidirectional=True)\n",
       "  (v1): LSTM(1600, 200, bidirectional=True)\n",
       "  (v2): LSTM(1600, 200, bidirectional=True)\n",
       ")"
      ]
     },
     "execution_count": 14,
     "metadata": {},
     "output_type": "execute_result"
    }
   ],
   "source": [
    "model"
   ]
  },
  {
   "cell_type": "code",
   "execution_count": 15,
   "metadata": {
    "collapsed": false,
    "deletable": true,
    "editable": true
   },
   "outputs": [],
   "source": [
    "def get_batch(data, batch_size, batch_size_fn=lambda new, count, sofar: count):\n",
    "    \"\"\"Yield elements from data in chunks of batch_size.\"\"\"\n",
    "    minibatch, size_so_far = [], 0\n",
    "    for ex in data:\n",
    "        minibatch.append(ex)\n",
    "        size_so_far = batch_size_fn(ex, len(minibatch), size_so_far)\n",
    "        if size_so_far == batch_size:\n",
    "            yield minibatch\n",
    "            minibatch, size_so_far = [], 0\n",
    "        elif size_so_far > batch_size:\n",
    "            yield minibatch[:-1]\n",
    "            minibatch, size_so_far = minibatch[-1:], batch_size_fn(ex, 1, 0)\n",
    "    if minibatch:\n",
    "        yield minibatch"
   ]
  },
  {
   "cell_type": "code",
   "execution_count": 16,
   "metadata": {
    "collapsed": false,
    "deletable": true,
    "editable": true
   },
   "outputs": [],
   "source": [
    "def evaluate(iterator, model):\n",
    "    real_iter = get_batch(iterator.data(), args.batch_size)\n",
    "    \n",
    "    model.eval()\n",
    "    n_correct = 0\n",
    "    predictions = []\n",
    "    labels = []\n",
    "    \n",
    "    premises = []\n",
    "    hypothesises = []\n",
    "    real_labels = []\n",
    "    pair_ids = []\n",
    "    \n",
    "    for batch, real_batch in zip(iterator, real_iter):\n",
    "        \n",
    "        real_batch.reverse()\n",
    "        out = model(batch)\n",
    "        batch_predict = torch.max(out, 1)[1].view(batch.label.size()).data\n",
    "        batch_label = batch.label.data\n",
    "        n_correct += (batch_predict == batch_label).sum()\n",
    "        predictions.extend(batch_predict.tolist())\n",
    "        labels.extend(batch_label.tolist())\n",
    "        \n",
    "        premises.extend([x.premise for x in real_batch])\n",
    "        hypothesises.extend([x.hypothesis for x in real_batch])\n",
    "        real_labels.extend([x.label for x in real_batch])\n",
    "        pair_ids.extend([x.pairID for x in real_batch])\n",
    "                        \n",
    "    return n_correct,\\\n",
    "           np.array(predictions), np.array(labels),\\\n",
    "           np.array(premises), np.array(hypothesises), np.array(real_labels), np.array(pair_ids)"
   ]
  },
  {
   "cell_type": "code",
   "execution_count": 17,
   "metadata": {
    "collapsed": false,
    "deletable": true,
    "editable": true
   },
   "outputs": [],
   "source": [
    "def plot_confusion_matrix(true_values, predicted_values,\n",
    "                          class_map = class_map,\n",
    "                          classes = [0, 1, 2], \n",
    "                          normalize=True,\n",
    "                          title='Confusion matrix',\n",
    "                          cmap=plt.cm.Blues):\n",
    "    \"\"\"\n",
    "    This function prints and plots the confusion matrix.\n",
    "    Normalization can be applied by setting `normalize=True`.\n",
    "    \"\"\"\n",
    "    cm = metrics.confusion_matrix(true_values, predicted_values, labels = classes)\n",
    "\n",
    "    fig, ax = plt.subplots(figsize=(8,6))\n",
    "    plt.imshow(cm, interpolation='nearest', cmap=cmap)\n",
    "    ax.set_title(title, fontsize=16, fontweight='bold')\n",
    "    plt.colorbar()\n",
    "    tick_marks = np.arange(len(classes))\n",
    "    plt.xticks(tick_marks, [class_map[i] for i in classes])\n",
    "    plt.yticks(tick_marks, [class_map[i] for i in classes])\n",
    "\n",
    "    if normalize:\n",
    "        cm = np.around(100 * cm.astype('float') / cm.sum(axis=1)[:, np.newaxis], decimals=2)\n",
    "        print(\"Normalized confusion matrix\")\n",
    "    else:\n",
    "        print('Confusion matrix, without normalization')\n",
    "\n",
    "    print(cm)\n",
    "\n",
    "    thresh = cm.max() / 2.\n",
    "    for i, j in itertools.product(range(cm.shape[0]), range(cm.shape[1])):\n",
    "        plt.text(j, i, '{0}%'.format(cm[i, j]),\n",
    "                 horizontalalignment=\"center\",\n",
    "                 color=\"white\" if cm[i, j] > thresh else \"black\",\n",
    "                 size='large')\n",
    "\n",
    "    plt.tight_layout()\n",
    "    plt.ylabel('True label')\n",
    "    plt.xlabel('Predicted label')\n",
    "    ax.yaxis.label.set_size(14)\n",
    "    ax.xaxis.label.set_size(14)\n"
   ]
  },
  {
   "cell_type": "code",
   "execution_count": 18,
   "metadata": {
    "collapsed": false,
    "deletable": true,
    "editable": true
   },
   "outputs": [],
   "source": [
    "def print_samples(labels, predictions, premises, hypotheses, label, prediction, samples = 5):\n",
    "    idx = np.logical_and(labels == label, predictions == prediction)\n",
    "    n = np.sum(idx)\n",
    "    \n",
    "    selection = np.random.choice(range(n), size=samples)\n",
    "    \n",
    "    p = premises[idx][selection]\n",
    "    h = hypotheses[idx][selection]\n",
    "    \n",
    "    print('TRUE LABEL: %s\\nPREDICTION: %s\\n' % (class_map[label], class_map[prediction]))\n",
    "    \n",
    "    for i in range(samples):\n",
    "        print('Sample %s' % (i+1))\n",
    "        print('Premise: ' + ' '.join(p[i]))\n",
    "        print('Hypothesis: ' + ' '.join(h[i]))\n",
    "        print('-------------------------------------------------------\\n')"
   ]
  },
  {
   "cell_type": "markdown",
   "metadata": {
    "collapsed": true,
    "deletable": true,
    "editable": true
   },
   "source": [
    "# Annotation analysis"
   ]
  },
  {
   "cell_type": "code",
   "execution_count": 20,
   "metadata": {
    "collapsed": false,
    "deletable": true,
    "editable": true
   },
   "outputs": [],
   "source": [
    "url = 'http://www.nyu.edu/projects/bowman/multinli/multinli_1.0_annotations.zip'\n",
    "\n",
    "if not os.path.exists('../data/multinli_1.0_annotations/'):\n",
    "    print('Please download the annotations into the data folder from %s' % (url))"
   ]
  },
  {
   "cell_type": "code",
   "execution_count": 21,
   "metadata": {
    "collapsed": false,
    "deletable": true,
    "editable": true
   },
   "outputs": [],
   "source": [
    "matched_file = 'multinli_1.0_matched_annotations.txt'\n",
    "mismatched_file = 'multinli_1.0_mismatched_annotations.txt'\n",
    "matched_annotations = {}\n",
    "mismatched_annotations = {}\n",
    "\n",
    "for filename, annotations in zip([matched_file, mismatched_file], [matched_annotations, mismatched_annotations]):\n",
    "    \n",
    "    with open('../data/multinli_1.0_annotations/' + filename, 'r') as f:\n",
    "        for line in f:\n",
    "            s = line.strip().split('\\t')\n",
    "            annotations[s[0]] = s[1:]"
   ]
  },
  {
   "cell_type": "code",
   "execution_count": 22,
   "metadata": {
    "collapsed": true,
    "deletable": true,
    "editable": true
   },
   "outputs": [],
   "source": [
    "categories = ['#CONDITIONAL', '#ACTIVE/PASSIVE', '#PARAPHRASE', '#COREF',\n",
    "             '#QUANTIFIER', '#MODAL', '#BELIEF', '#NEGATION', '#ANTO',\n",
    "             '#TENSE_DIFFERENCE', '#QUANTITY/TIME_REASONING', '#WORD_OVERLAP',\n",
    "             '#LONG_SENTENCE']\n",
    "\n",
    "latex_categories = ['Conditional', 'Active / Passive', 'Paraphrase',\n",
    "                    'Corefer', 'Quantifier', 'Modal', 'Belief', 'Negation',\n",
    "                    'Antonym', 'Tense Difference', 'Quantity / Time',\n",
    "                    'Word Overlap', 'Long Sentence']"
   ]
  },
  {
   "cell_type": "markdown",
   "metadata": {
    "deletable": true,
    "editable": true
   },
   "source": [
    "# Results!"
   ]
  },
  {
   "cell_type": "code",
   "execution_count": 23,
   "metadata": {
    "collapsed": true,
    "deletable": true,
    "editable": true
   },
   "outputs": [],
   "source": [
    "def results(val_name, val_iter, annotations, model):\n",
    "    n_correct, predictions, labels, premises, hypotheses, real_labels, pair_ids = evaluate(val_iter, model)  \n",
    "    accuracy = n_correct / len(val_iter_matched.dataset) * 100\n",
    "    print(\"Accuracy: {0}\".format(accuracy))\n",
    "    \n",
    "    sub_accs = []\n",
    "    \n",
    "    for category in categories:\n",
    "        \n",
    "        num_correct = 0\n",
    "        total = 0\n",
    "        \n",
    "        for i in range(len(pair_ids)):\n",
    "            if category in annotations.get(pair_ids[i], []):\n",
    "                total += 1\n",
    "                \n",
    "                if predictions[i] == labels[i]:\n",
    "                    num_correct += 1\n",
    "                    \n",
    "        print('%s\\t%0.2f%%' % (category.strip('#'), num_correct/total*100))\n",
    "        \n",
    "        sub_accs.append(num_correct/total*100)\n",
    "                \n",
    "    \n",
    "    plot_confusion_matrix(labels, predictions, title='%s - %s\\nAccuracy: %0.2f%%'\n",
    "                                                  % (args.model_type, val_name, accuracy))\n",
    "    for i in range(2):\n",
    "        for j in range(2):\n",
    "            print_samples(labels, predictions, premises, hypotheses, i, j)\n",
    "            \n",
    "    return sub_accs"
   ]
  },
  {
   "cell_type": "code",
   "execution_count": 24,
   "metadata": {
    "collapsed": false,
    "deletable": true,
    "editable": true,
    "scrolled": false
   },
   "outputs": [
    {
     "name": "stdout",
     "output_type": "stream",
     "text": [
      "Accuracy: 73.0412633723892\n",
      "CONDITIONAL\t60.87%\n",
      "ACTIVE/PASSIVE\t93.33%\n",
      "PARAPHRASE\t80.00%\n",
      "COREF\t83.33%\n",
      "QUANTIFIER\t75.20%\n",
      "MODAL\t79.17%\n",
      "BELIEF\t75.76%\n",
      "NEGATION\t74.42%\n",
      "ANTO\t88.24%\n",
      "TENSE_DIFFERENCE\t78.43%\n",
      "QUANTITY/TIME_REASONING\t53.33%\n",
      "WORD_OVERLAP\t78.57%\n",
      "LONG_SENTENCE\t80.81%\n",
      "Normalized confusion matrix\n",
      "[[ 78.73   6.35  14.92]\n",
      " [ 14.07  70.03  15.9 ]\n",
      " [ 17.29  12.9   69.8 ]]\n",
      "TRUE LABEL: entailment\n",
      "PREDICTION: entailment\n",
      "\n",
      "Sample 1\n",
      "Premise: ooh that does get high yeah i mean\n",
      "Hypothesis: that does increase , yeah .\n",
      "-------------------------------------------------------\n",
      "\n",
      "Sample 2\n",
      "Premise: ( and yes , he has said a few things that can , with some effort , be construed as support for supply-side economics . )\n",
      "Hypothesis: it would take some work to construe the things as support for supply-side economics .\n",
      "-------------------------------------------------------\n",
      "\n",
      "Sample 3\n",
      "Premise: and uh the whole organization was targeting to replace whole life policies with a term life with annuity an annuity and uh\n",
      "Hypothesis: whole life policies with a term life with annuity could be replaced by the whole organization .\n",
      "-------------------------------------------------------\n",
      "\n",
      "Sample 4\n",
      "Premise: and they 're illegal so i do n't think it would do us any good to outlaw them all together\n",
      "Hypothesis: since they 're illegal , it would n't do us to to outlaw them all together .\n",
      "-------------------------------------------------------\n",
      "\n",
      "Sample 5\n",
      "Premise: he turned and saw jon sleeping in his half-tent .\n",
      "Hypothesis: he saw jon was asleep .\n",
      "-------------------------------------------------------\n",
      "\n",
      "TRUE LABEL: entailment\n",
      "PREDICTION: contradiction\n",
      "\n",
      "Sample 1\n",
      "Premise: his off-the-cuff style seems amateurish next to inglis ' polished mini-essays .\n",
      "Hypothesis: his style made him look like an amateur beside inglis ' work\n",
      "-------------------------------------------------------\n",
      "\n",
      "Sample 2\n",
      "Premise: they were inferior .\n",
      "Hypothesis: substandard , they were .\n",
      "-------------------------------------------------------\n",
      "\n",
      "Sample 3\n",
      "Premise: huh do you have your own kiln or do you do you\n",
      "Hypothesis: you do n't have a kiln , do you ?\n",
      "-------------------------------------------------------\n",
      "\n",
      "Sample 4\n",
      "Premise: the fcc has created two tiers of small business for this service with the approval of the sba .\n",
      "Hypothesis: the sba has given the go-ahead for the fcc to divide this service into two tiers of small business .\n",
      "-------------------------------------------------------\n",
      "\n",
      "Sample 5\n",
      "Premise: after the recovery of jerusalem in 1099 , it took four hundred years of sieges and battles , treaties , betrayals , and yet more battles , before christian kings and warlords succeeded in subduing the moors .\n",
      "Hypothesis: the moors were only subdued by the christians after four centuries of bloodshed .\n",
      "-------------------------------------------------------\n",
      "\n",
      "TRUE LABEL: contradiction\n",
      "PREDICTION: entailment\n",
      "\n",
      "Sample 1\n",
      "Premise: my own little corner of the world , policy wonking , is an example .\n",
      "Hypothesis: an example is birdwatching .\n",
      "-------------------------------------------------------\n",
      "\n",
      "Sample 2\n",
      "Premise: so unlike people who are fortunate enough to be able to afford attorneys and can go to another lawyer , our clients are simply lost in the legal system if they can not get access to it from us .\n",
      "Hypothesis: our clients can afford attorneys and bouncing between lawyers .\n",
      "-------------------------------------------------------\n",
      "\n",
      "Sample 3\n",
      "Premise: he writes that it 's the first time he 's added such a track .\n",
      "Hypothesis: he creates tracks like this all the time .\n",
      "-------------------------------------------------------\n",
      "\n",
      "Sample 4\n",
      "Premise: on the days i go to my office , i wear a flannel shirt with no necktie if the weather is cool .\n",
      "Hypothesis: on hot days , i wear a flannel shirt to the office .\n",
      "-------------------------------------------------------\n",
      "\n",
      "Sample 5\n",
      "Premise: even though the scratch was tiny , it broke his heart and haunted him for two weeks .\n",
      "Hypothesis: he was haunted for a full month by the scratch .\n",
      "-------------------------------------------------------\n",
      "\n",
      "TRUE LABEL: contradiction\n",
      "PREDICTION: contradiction\n",
      "\n",
      "Sample 1\n",
      "Premise: that 's true i did n't think about that\n",
      "Hypothesis: that 's not true .\n",
      "-------------------------------------------------------\n",
      "\n",
      "Sample 2\n",
      "Premise: the younger girl ran screaming to her .\n",
      "Hypothesis: the young girl stood frozen in her place .\n",
      "-------------------------------------------------------\n",
      "\n",
      "Sample 3\n",
      "Premise: in japan , mainichi shimbun criticized the new liberal democratic party leader keizo obuchi for being devoid of fresh ideas for reviving the japanese economy .\n",
      "Hypothesis: mainichi shimbun approved of keizo obuchi 's efforts toward improving the economy .\n",
      "-------------------------------------------------------\n",
      "\n",
      "Sample 4\n",
      "Premise: this is susan .\n",
      "Hypothesis: this is bob .\n",
      "-------------------------------------------------------\n",
      "\n",
      "Sample 5\n",
      "Premise: yes everybody in the country is preapproved i think\n",
      "Hypothesis: nobody in this country will be approved\n",
      "-------------------------------------------------------\n",
      "\n"
     ]
    },
    {
     "data": {
      "image/png": "[encoded data removed]",
      "text/plain": [
       "<matplotlib.figure.Figure at 0x2adce7f148d0>"
      ]
     },
     "metadata": {},
     "output_type": "display_data"
    }
   ],
   "source": [
    "matched_accs = results('val_matched', val_iter_matched, matched_annotations, model)"
   ]
  },
  {
   "cell_type": "code",
   "execution_count": 25,
   "metadata": {
    "collapsed": false,
    "deletable": true,
    "editable": true,
    "scrolled": false
   },
   "outputs": [
    {
     "name": "stdout",
     "output_type": "stream",
     "text": [
      "Accuracy: 72.32806928171168\n",
      "CONDITIONAL\t65.38%\n",
      "ACTIVE/PASSIVE\t100.00%\n",
      "PARAPHRASE\t86.84%\n",
      "COREF\t76.67%\n",
      "QUANTIFIER\t72.14%\n",
      "MODAL\t71.43%\n",
      "BELIEF\t69.49%\n",
      "NEGATION\t67.31%\n",
      "ANTO\t85.00%\n",
      "TENSE_DIFFERENCE\t61.11%\n",
      "QUANTITY/TIME_REASONING\t50.00%\n",
      "WORD_OVERLAP\t75.68%\n",
      "LONG_SENTENCE\t70.64%\n",
      "Normalized confusion matrix\n",
      "[[ 80.94   5.11  13.95]\n",
      " [ 15.06  67.96  16.98]\n",
      " [ 20.01  13.07  66.92]]\n",
      "TRUE LABEL: entailment\n",
      "PREDICTION: entailment\n",
      "\n",
      "Sample 1\n",
      "Premise: on reflection , the parts will hold together .\n",
      "Hypothesis: the part will hold together on second thought .\n",
      "-------------------------------------------------------\n",
      "\n",
      "Sample 2\n",
      "Premise: these funds would insure that scholarships are available to students as long as there are students to support .\n",
      "Hypothesis: the funds are planned to be used to help students\n",
      "-------------------------------------------------------\n",
      "\n",
      "Sample 3\n",
      "Premise: the iupui challenger scholars are chosen from among outstanding students in the humanities , sciences , technologies and education who have chosen to pursue careers in teaching , at any level .\n",
      "Hypothesis: candidates for the iupui challenger scholars are students who show academic excellence in the humanities , sciences , technology and education and who desire to pursue teaching careers .\n",
      "-------------------------------------------------------\n",
      "\n",
      "Sample 4\n",
      "Premise: um , peyton place was , had , um , kind of a fascination because i was at summer camp in nh , near gilmanton iron works , where that woman , the author , lived .\n",
      "Hypothesis: peyton place had a fascination because i was at summer camp .\n",
      "-------------------------------------------------------\n",
      "\n",
      "Sample 5\n",
      "Premise: yeah , he had a guy that would help him on wednesdays , it was the local barber .\n",
      "Hypothesis: he knew the local barber .\n",
      "-------------------------------------------------------\n",
      "\n",
      "TRUE LABEL: entailment\n",
      "PREDICTION: contradiction\n",
      "\n",
      "Sample 1\n",
      "Premise: the vice president 's military aide told us he believed the vice president spoke to the president just after entering the conference room , but he did not hear what they said .\n",
      "Hypothesis: the military aide believed that he heard a conversation between the vice president and the president .\n",
      "-------------------------------------------------------\n",
      "\n",
      "Sample 2\n",
      "Premise: in the roman catholic church , for example , women can function as acolytes ( one of the minor orders of the diaconate ) but may not be officially installed as acolytes .\n",
      "Hypothesis: roman catholic church never officially recognized women as acolytes .\n",
      "-------------------------------------------------------\n",
      "\n",
      "Sample 3\n",
      "Premise: muscat , or muscatel , on the other hand , is found on skid rows all over the land .\n",
      "Hypothesis: muscat is on skid row .\n",
      "-------------------------------------------------------\n",
      "\n",
      "Sample 4\n",
      "Premise: by the year 2000 .\n",
      "Hypothesis: by the 21st century .\n",
      "-------------------------------------------------------\n",
      "\n",
      "Sample 5\n",
      "Premise: such a plot had not been carried out anywhere in the world in more than 30 years , and never in the united states .\n",
      "Hypothesis: it was the first time such a plot happened in the united states .\n",
      "-------------------------------------------------------\n",
      "\n",
      "TRUE LABEL: contradiction\n",
      "PREDICTION: entailment\n",
      "\n",
      "Sample 1\n",
      "Premise: he died in a ferryboat accident on lake victoria just a few days after bin ladin arrived in jalalabad , leaving bin ladin with a need to replace him not only in the shura but also as supervisor of the cells and prospective operations in east africa .\n",
      "Hypothesis: bin ladin kidnapped a man riding on lake victoria to use him in the shura .\n",
      "-------------------------------------------------------\n",
      "\n",
      "Sample 2\n",
      "Premise: thirty-seven passengers , including the hijackers , boarded the plane .\n",
      "Hypothesis: there were a hundred passengers who boarded the plane in addition to the hijackers .\n",
      "-------------------------------------------------------\n",
      "\n",
      "Sample 3\n",
      "Premise: at 9:00 , american airlines executive vice president gerard arpey learned that communications had been lost with american 77 .\n",
      "Hypothesis: it was n't until 10:00 that gerard arpey leaned that communication had been lost with american 77 .\n",
      "-------------------------------------------------------\n",
      "\n",
      "Sample 4\n",
      "Premise: the command center executed the request and , a minute later , cleveland center reported that united 93 may have a bomb on board .\n",
      "Hypothesis: an hour after the command center executed the request the cleveland center reported that flight of united 93 may have a bomb on board .\n",
      "-------------------------------------------------------\n",
      "\n",
      "Sample 5\n",
      "Premise: note that the work in a shirt plant is generally grouped into production lots of 1,500 shirts if the progressive bundle system is used .\n",
      "Hypothesis: the progressive bundle system means work is generally grouped into production lots of 20,000 shirts or more .\n",
      "-------------------------------------------------------\n",
      "\n",
      "TRUE LABEL: contradiction\n",
      "PREDICTION: contradiction\n",
      "\n",
      "Sample 1\n",
      "Premise: because , well , no , ines was putting up an argument that- , when he told her , no , he said , e , luis alonso , i may be going to die , he said , because so much blood loss , he said .\n",
      "Hypothesis: he said that there was no chance he was going to die of blood loss .\n",
      "-------------------------------------------------------\n",
      "\n",
      "Sample 2\n",
      "Premise: and this is , i guess , after , after high school , kind of right before college , actually , while i was in college , before i went away to school , while i was still in brooklyn .\n",
      "Hypothesis: i was never in brooklyn .\n",
      "-------------------------------------------------------\n",
      "\n",
      "Sample 3\n",
      "Premise: low-cost labor overseas and the increasing penetration of imports have certainly undercut american apparel manufacturers ; apparel imports grew rapidly in most categories starting in the mid-1970s .\n",
      "Hypothesis: there have been fewer apparel imports since the mid-1970s .\n",
      "-------------------------------------------------------\n",
      "\n",
      "Sample 4\n",
      "Premise: i , i do think they read to them when they are little .\n",
      "Hypothesis: they were never told stories when they were little .\n",
      "-------------------------------------------------------\n",
      "\n",
      "Sample 5\n",
      "Premise: whether the apparel item is casual or formal , the stitching in the garment must accomplish one or more of the following objectives .\n",
      "Hypothesis: there are no objectives associated with the stitching in the garment .\n",
      "-------------------------------------------------------\n",
      "\n"
     ]
    },
    {
     "data": {
      "image/png": "[encoded data removed]",
      "text/plain": [
       "<matplotlib.figure.Figure at 0x2add1f413400>"
      ]
     },
     "metadata": {},
     "output_type": "display_data"
    }
   ],
   "source": [
    "mismatched_accs = results('val_mismatched', val_iter_unmatched, mismatched_annotations, model)"
   ]
  },
  {
   "cell_type": "markdown",
   "metadata": {
    "collapsed": true,
    "deletable": true,
    "editable": true
   },
   "source": [
    "# Because I know you're lazy: LaTeX table!"
   ]
  },
  {
   "cell_type": "code",
   "execution_count": 34,
   "metadata": {
    "collapsed": false
   },
   "outputs": [
    {
     "name": "stdout",
     "output_type": "stream",
     "text": [
      "\\begin{tabular}{l | c | c}\n",
      "\\textbf{Category} & Matched (\\%) & Mismatched (\\%) \\\\\n",
      "\\hline \\\\\n",
      "Conditional & 60.87 & 65.38 \\\\ \n",
      "Active / Passive & 93.33 & 100.00 \\\\ \n",
      "Paraphrase & 80.00 & 86.84 \\\\ \n",
      "Corefer & 83.33 & 76.67 \\\\ \n",
      "Quantifier & 75.20 & 72.14 \\\\ \n",
      "Modal & 79.17 & 71.43 \\\\ \n",
      "Belief & 75.76 & 69.49 \\\\ \n",
      "Negation & 74.42 & 67.31 \\\\ \n",
      "Antonym & 88.24 & 85.00 \\\\ \n",
      "Tense Difference & 78.43 & 61.11 \\\\ \n",
      "Quantity / Time & 53.33 & 50.00 \\\\ \n",
      "Word Overlap & 78.57 & 75.68 \\\\ \n",
      "Long Sentence & 80.81 & 70.64 \\\\ \n",
      "\\end{tabular}\n"
     ]
    }
   ],
   "source": [
    "latex = \"\"\"\\\\begin{tabular}{l | c | c}\n",
    "\\\\textbf{Category} & Matched (\\%) & Mismatched (\\%) \\\\\\\\\n",
    "\\hline \\\\\\\\\n",
    "\"\"\"\n",
    "\n",
    "for i in range(len(latex_categories)):\n",
    "    latex += latex_categories[i] + ' & %.2f & %.2f \\\\\\\\ \\n' % (matched_accs[i], mismatched_accs[i])\n",
    "\n",
    "latex += '\\end{tabular}'\n",
    "\n",
    "print(latex)"
   ]
  },
  {
   "cell_type": "code",
   "execution_count": null,
   "metadata": {
    "collapsed": true
   },
   "outputs": [],
   "source": []
  }
 ],
 "metadata": {
  "kernelspec": {
   "display_name": "Python 3",
   "language": "python",
   "name": "python3"
  },
  "language_info": {
   "codemirror_mode": {
    "name": "ipython",
    "version": 3
   },
   "file_extension": ".py",
   "mimetype": "text/x-python",
   "name": "python",
   "nbconvert_exporter": "python",
   "pygments_lexer": "ipython3",
   "version": "3.5.3"
  }
 },
 "nbformat": 4,
 "nbformat_minor": 2
}
