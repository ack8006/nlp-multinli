{
 "cells": [
  {
   "cell_type": "code",
   "execution_count": 1,
   "metadata": {
    "collapsed": true
   },
   "outputs": [],
   "source": [
    "import sys\n",
    "import os\n",
    "import torch\n",
    "import torch.nn as nn\n",
    "import torch.nn.functional as F\n",
    "from torchtext import data\n",
    "import nltk\n",
    "import numpy as np\n",
    "from argparse import ArgumentParser\n",
    "from sklearn import metrics\n",
    "import matplotlib.pyplot as plt\n",
    "import itertools\n",
    "from matplotlib import rcParams\n",
    "import urllib.request\n",
    "import zipfile\n",
    "rcParams['axes.titlepad'] = 20 \n",
    "rcParams['axes.labelpad'] = 15\n",
    "%matplotlib inline"
   ]
  },
  {
   "cell_type": "code",
   "execution_count": 2,
   "metadata": {},
   "outputs": [
    {
     "data": {
      "text/plain": [
       "'/Users/Joe/Documents/DS_Projects/nlp-multinli/models'"
      ]
     },
     "execution_count": 2,
     "metadata": {},
     "output_type": "execute_result"
    }
   ],
   "source": [
    "os.chdir('../models')\n",
    "os.getcwd()"
   ]
  },
  {
   "cell_type": "code",
   "execution_count": 3,
   "metadata": {
    "collapsed": true
   },
   "outputs": [],
   "source": [
    "from models import ConcatModel, CosineModel, ESIM, DA\n",
    "\n",
    "sys.path.append('../utilities')\n",
    "from tokenizers import custom_tokenizer\n",
    "from utils import get_dataset, get_args"
   ]
  },
  {
   "cell_type": "markdown",
   "metadata": {},
   "source": [
    "# Loading arguments"
   ]
  },
  {
   "cell_type": "markdown",
   "metadata": {},
   "source": [
    "If you want to get the config from the slurm file"
   ]
  },
  {
   "cell_type": "code",
   "execution_count": 4,
   "metadata": {
    "collapsed": true
   },
   "outputs": [],
   "source": [
    "F = open('../slurm/main.slurm','r')\n",
    "options = F.read().split('main.py ')[1].strip('\\n')"
   ]
  },
  {
   "cell_type": "markdown",
   "metadata": {},
   "source": [
    "Else, if you want to paste the args here:"
   ]
  },
  {
   "cell_type": "code",
   "execution_count": 5,
   "metadata": {
    "collapsed": true
   },
   "outputs": [],
   "source": [
    "options = \"--save_model --model_type DA --max_vocab_size 15000 --n_epochs 100 --batch_size 64 --d_embed 300 \"\n",
    "options += \"--d_hidden 300 --lr 0.0001 --dropout_mlp 0.2 --word_vectors glove.6B.300d --dev_every 550 \"\n",
    "options += \"--DA_embed_train 70 --intra_sentence TRUE\""
   ]
  },
  {
   "cell_type": "code",
   "execution_count": 6,
   "metadata": {
    "collapsed": true
   },
   "outputs": [],
   "source": [
    "options = options.split(' ')\n",
    "sys.argv = options\n",
    "args = get_args()"
   ]
  },
  {
   "cell_type": "code",
   "execution_count": 7,
   "metadata": {},
   "outputs": [
    {
     "data": {
      "text/plain": [
       "Namespace(DA_embed_train=70, agg_d_hidden=100, agg_n_layers=1, batch_size=64, bidir=False, cuda=False, d_embed=300, d_hidden=300, dataset='multinli', dev_every=550, dropout_emb=0.0, dropout_mlp=0.2, dropout_rnn=0.0, intra_sentence=True, load_model='', lr=0.0001, max_vocab_size=15000, model_type='DA', mp_dim=15, n_epochs=100, n_layers=1, n_linear_layers=3, no_comet=False, save_model=False, sentence_len=None, val_set='val_matched', word_vectors='glove.6B.300d')"
      ]
     },
     "execution_count": 7,
     "metadata": {},
     "output_type": "execute_result"
    }
   ],
   "source": [
    "args"
   ]
  },
  {
   "cell_type": "markdown",
   "metadata": {},
   "source": [
    "# Build datasets"
   ]
  },
  {
   "cell_type": "code",
   "execution_count": 8,
   "metadata": {},
   "outputs": [
    {
     "name": "stdout",
     "output_type": "stream",
     "text": [
      "[nltk_data] Downloading package punkt to\n",
      "[nltk_data]     /Users/Joe/Documents/DS_Projects/nlp-\n",
      "[nltk_data]     multinli/models/nltk_data...\n",
      "[nltk_data]   Package punkt is already up-to-date!\n"
     ]
    }
   ],
   "source": [
    "nltk_path = os.getcwd() + '/nltk_data'\n",
    "nltk.download('punkt', download_dir=nltk_path)\n",
    "nltk.data.path.append(nltk_path)"
   ]
  },
  {
   "cell_type": "markdown",
   "metadata": {},
   "source": [
    "Remember to delete your TSV if it doesn't have the pair_field in it yet!!!"
   ]
  },
  {
   "cell_type": "code",
   "execution_count": 9,
   "metadata": {},
   "outputs": [
    {
     "name": "stdout",
     "output_type": "stream",
     "text": [
      "Creating Train Dataset\n",
      "Creating Val_Matched Dataset\n",
      "Creating Val_Mismatched Dataset\n"
     ]
    }
   ],
   "source": [
    "text_field = data.Field(tokenize=custom_tokenizer,\n",
    "                        fix_length=args.sentence_len,\n",
    "                        unk_token='<**UNK**>')\n",
    "label_field = data.Field(sequential=False, unk_token=None)\n",
    "pair_field = data.RawField()\n",
    "\n",
    "train = get_dataset(text_field, label_field, pair_field, 'train')\n",
    "val_matched = get_dataset(text_field, label_field, pair_field, 'val_matched')\n",
    "val_unmatched = get_dataset(text_field, label_field, pair_field, 'val_mismatched')\n",
    "\n",
    "text_field.build_vocab(train, max_size=args.max_vocab_size)\n",
    "label_field.build_vocab(train, val_matched, val_unmatched)"
   ]
  },
  {
   "cell_type": "code",
   "execution_count": 10,
   "metadata": {
    "collapsed": true
   },
   "outputs": [],
   "source": [
    "def sort_key(ex):\n",
    "    return data.interleave_keys(len(ex.premise), len(ex.hypothesis))"
   ]
  },
  {
   "cell_type": "code",
   "execution_count": 11,
   "metadata": {
    "collapsed": true
   },
   "outputs": [],
   "source": [
    "device = -1\n",
    "train_iter, val_iter_matched, val_iter_unmatched = data.BucketIterator.splits((train, val_matched, val_unmatched),\n",
    "                                            batch_size=args.batch_size,\n",
    "                                            shuffle = False,\n",
    "                                            sort = True,\n",
    "                                            sort_key = sort_key,\n",
    "                                            device=device)"
   ]
  },
  {
   "cell_type": "code",
   "execution_count": 12,
   "metadata": {
    "collapsed": true
   },
   "outputs": [],
   "source": [
    "class_map = {0: 'entailment',\n",
    "           1: 'contradiction',\n",
    "           2: 'neutral'}"
   ]
  },
  {
   "cell_type": "markdown",
   "metadata": {},
   "source": [
    "# Load model"
   ]
  },
  {
   "cell_type": "code",
   "execution_count": 13,
   "metadata": {},
   "outputs": [],
   "source": [
    "saved_model = 'Model_DA_acc_71.8594_epoch_74_model.pt'\n",
    "model = torch.load('../saved_models/' + saved_model)"
   ]
  },
  {
   "cell_type": "code",
   "execution_count": 14,
   "metadata": {},
   "outputs": [
    {
     "data": {
      "text/plain": [
       "DA (\n",
       "  (embed): Embedding(15002, 300)\n",
       "  (relu): ReLU ()\n",
       "  (in_linear): Linear (300 -> 300)\n",
       "  (mlp_F): DA_MLP (\n",
       "    (mlp): Sequential (\n",
       "      (Dropout_0): Dropout (p = 0.2)\n",
       "      (Linear_0): Linear (600 -> 300)\n",
       "      (Activation_0): ReLU ()\n",
       "      (Dropout_1): Dropout (p = 0.2)\n",
       "      (Linear_1): Linear (300 -> 300)\n",
       "      (Activation_1): ReLU ()\n",
       "    )\n",
       "    (dropout): Dropout (p = 0.2)\n",
       "  )\n",
       "  (mlp_G): DA_MLP (\n",
       "    (mlp): Sequential (\n",
       "      (Dropout_0): Dropout (p = 0.2)\n",
       "      (Linear_0): Linear (600 -> 300)\n",
       "      (Activation_0): ReLU ()\n",
       "      (Dropout_1): Dropout (p = 0.2)\n",
       "      (Linear_1): Linear (300 -> 300)\n",
       "      (Activation_1): ReLU ()\n",
       "    )\n",
       "    (dropout): Dropout (p = 0.2)\n",
       "  )\n",
       "  (mlp_H): DA_MLP (\n",
       "    (mlp): Sequential (\n",
       "      (Dropout_0): Dropout (p = 0.2)\n",
       "      (Linear_0): Linear (600 -> 300)\n",
       "      (Activation_0): ReLU ()\n",
       "      (Dropout_1): Dropout (p = 0.2)\n",
       "      (Linear_1): Linear (300 -> 300)\n",
       "      (Activation_1): ReLU ()\n",
       "    )\n",
       "    (dropout): Dropout (p = 0.2)\n",
       "  )\n",
       "  (mlp_intra): DA_MLP (\n",
       "    (mlp): Sequential (\n",
       "      (Dropout_0): Dropout (p = 0.2)\n",
       "      (Linear_0): Linear (300 -> 300)\n",
       "      (Activation_0): ReLU ()\n",
       "      (Dropout_1): Dropout (p = 0.2)\n",
       "      (Linear_1): Linear (300 -> 300)\n",
       "      (Activation_1): ReLU ()\n",
       "    )\n",
       "    (dropout): Dropout (p = 0.2)\n",
       "  )\n",
       "  (out_linear): Linear (300 -> 3)\n",
       ")"
      ]
     },
     "execution_count": 14,
     "metadata": {},
     "output_type": "execute_result"
    }
   ],
   "source": [
    "model"
   ]
  },
  {
   "cell_type": "code",
   "execution_count": 15,
   "metadata": {
    "collapsed": true
   },
   "outputs": [],
   "source": [
    "def get_batch(data, batch_size, batch_size_fn=lambda new, count, sofar: count):\n",
    "    \"\"\"Yield elements from data in chunks of batch_size.\"\"\"\n",
    "    minibatch, size_so_far = [], 0\n",
    "    for ex in data:\n",
    "        minibatch.append(ex)\n",
    "        size_so_far = batch_size_fn(ex, len(minibatch), size_so_far)\n",
    "        if size_so_far == batch_size:\n",
    "            yield minibatch\n",
    "            minibatch, size_so_far = [], 0\n",
    "        elif size_so_far > batch_size:\n",
    "            yield minibatch[:-1]\n",
    "            minibatch, size_so_far = minibatch[-1:], batch_size_fn(ex, 1, 0)\n",
    "    if minibatch:\n",
    "        yield minibatch"
   ]
  },
  {
   "cell_type": "code",
   "execution_count": 16,
   "metadata": {
    "collapsed": true
   },
   "outputs": [],
   "source": [
    "def evaluate(iterator, model):\n",
    "    real_iter = get_batch(iterator.data(), args.batch_size)\n",
    "    \n",
    "    model.eval()\n",
    "    n_correct = 0\n",
    "    predictions = []\n",
    "    labels = []\n",
    "    \n",
    "    premises = []\n",
    "    hypothesises = []\n",
    "    real_labels = []\n",
    "    pair_ids = []\n",
    "    \n",
    "    for batch, real_batch in zip(iterator, real_iter):\n",
    "        \n",
    "        real_batch.reverse()\n",
    "        out = model(batch)\n",
    "        batch_predict = torch.max(out, 1)[1].view(batch.label.size()).data\n",
    "        batch_label = batch.label.data\n",
    "        n_correct += (batch_predict == batch_label).sum()\n",
    "        predictions.extend(batch_predict.tolist())\n",
    "        labels.extend(batch_label.tolist())\n",
    "        \n",
    "        premises.extend([x.premise for x in real_batch])\n",
    "        hypothesises.extend([x.hypothesis for x in real_batch])\n",
    "        real_labels.extend([x.label for x in real_batch])\n",
    "        pair_ids.extend([x.pairID for x in real_batch])\n",
    "                        \n",
    "    return n_correct,\\\n",
    "           np.array(predictions), np.array(labels),\\\n",
    "           np.array(premises), np.array(hypothesises), np.array(real_labels), np.array(pair_ids)"
   ]
  },
  {
   "cell_type": "code",
   "execution_count": 42,
   "metadata": {
    "collapsed": true
   },
   "outputs": [],
   "source": [
    "def plot_confusion_matrix(true_values, predicted_values,\n",
    "                          class_map = class_map,\n",
    "                          classes = [0, 1, 2], \n",
    "                          normalize=True,\n",
    "                          title='Confusion matrix',\n",
    "                          cmap=plt.cm.Blues):\n",
    "    \"\"\"\n",
    "    This function prints and plots the confusion matrix.\n",
    "    Normalization can be applied by setting `normalize=True`.\n",
    "    \"\"\"\n",
    "    cm = metrics.confusion_matrix(true_values, predicted_values, labels = classes)\n",
    "\n",
    "    if normalize:\n",
    "        cm = np.around(100 * cm.astype('float') / cm.sum(axis=1)[:, np.newaxis], decimals=2)\n",
    "        print(\"Normalized confusion matrix\")\n",
    "    else:\n",
    "        print('Confusion matrix, without normalization')\n",
    "\n",
    "    print(cm)\n",
    "    \n",
    "    fig, ax = plt.subplots(figsize=(8,6))\n",
    "    plt.imshow(cm, interpolation='nearest', cmap=cmap)\n",
    "    ax.set_title(title, fontsize=16, fontweight='bold')\n",
    "    tick_marks = np.arange(len(classes))\n",
    "    plt.xticks(tick_marks, [class_map[i] for i in classes])\n",
    "    plt.yticks(tick_marks, [class_map[i] for i in classes])\n",
    "\n",
    "    thresh = cm.max() / 2.\n",
    "    for i, j in itertools.product(range(cm.shape[0]), range(cm.shape[1])):\n",
    "        plt.text(j, i, '{0}%'.format(cm[i, j]),\n",
    "                 horizontalalignment=\"center\",\n",
    "                 color=\"white\" if cm[i, j] > thresh else \"black\",\n",
    "                 size='large')\n",
    "\n",
    "#     plt.colorbar()\n",
    "    plt.tight_layout()\n",
    "    plt.ylabel('True label')\n",
    "    plt.xlabel('Predicted label')\n",
    "    ax.yaxis.label.set_size(14)\n",
    "    ax.xaxis.label.set_size(14)\n"
   ]
  },
  {
   "cell_type": "code",
   "execution_count": 18,
   "metadata": {
    "collapsed": true
   },
   "outputs": [],
   "source": [
    "def print_samples(labels, predictions, premises, hypotheses, label, prediction, samples = 5):\n",
    "    idx = np.logical_and(labels == label, predictions == prediction)\n",
    "    n = np.sum(idx)\n",
    "    \n",
    "    selection = np.random.choice(range(n), size=samples)\n",
    "    \n",
    "    p = premises[idx][selection]\n",
    "    h = hypotheses[idx][selection]\n",
    "    \n",
    "    print('TRUE LABEL: %s\\nPREDICTION: %s\\n' % (class_map[label], class_map[prediction]))\n",
    "    \n",
    "    for i in range(samples):\n",
    "        print('Sample %s' % (i+1))\n",
    "        print('Premise: ' + ' '.join(p[i]))\n",
    "        print('Hypothesis: ' + ' '.join(h[i]))\n",
    "        print('-------------------------------------------------------\\n')"
   ]
  },
  {
   "cell_type": "markdown",
   "metadata": {
    "collapsed": true
   },
   "source": [
    "# Annotation analysis"
   ]
  },
  {
   "cell_type": "code",
   "execution_count": 19,
   "metadata": {
    "collapsed": true
   },
   "outputs": [],
   "source": [
    "url = 'http://www.nyu.edu/projects/bowman/multinli/multinli_1.0_annotations.zip'\n",
    "\n",
    "if not os.path.exists('../data/multinli_1.0_annotations/'):\n",
    "    print('Please download the annotations into the data folder from %s' % (url))"
   ]
  },
  {
   "cell_type": "code",
   "execution_count": 20,
   "metadata": {
    "collapsed": true
   },
   "outputs": [],
   "source": [
    "matched_file = 'multinli_1.0_matched_annotations.txt'\n",
    "mismatched_file = 'multinli_1.0_mismatched_annotations.txt'\n",
    "matched_annotations = {}\n",
    "mismatched_annotations = {}\n",
    "\n",
    "for filename, annotations in zip([matched_file, mismatched_file], [matched_annotations, mismatched_annotations]):\n",
    "    \n",
    "    with open('../data/multinli_1.0_annotations/' + filename, 'r') as f:\n",
    "        for line in f:\n",
    "            s = line.strip().split('\\t')\n",
    "            annotations[s[0]] = s[1:]"
   ]
  },
  {
   "cell_type": "code",
   "execution_count": 21,
   "metadata": {
    "collapsed": true
   },
   "outputs": [],
   "source": [
    "categories = ['#CONDITIONAL', '#ACTIVE/PASSIVE', '#PARAPHRASE', '#COREF',\n",
    "             '#QUANTIFIER', '#MODAL', '#BELIEF', '#NEGATION', '#ANTO',\n",
    "             '#TENSE_DIFFERENCE', '#QUANTITY/TIME_REASONING', '#WORD_OVERLAP',\n",
    "             '#LONG_SENTENCE']\n",
    "\n",
    "latex_categories = ['Conditional', 'Active / Passive', 'Paraphrase',\n",
    "                    'Corefer', 'Quantifier', 'Modal', 'Belief', 'Negation',\n",
    "                    'Antonym', 'Tense Difference', 'Quantity / Time',\n",
    "                    'Word Overlap', 'Long Sentence']"
   ]
  },
  {
   "cell_type": "markdown",
   "metadata": {},
   "source": [
    "# Results!"
   ]
  },
  {
   "cell_type": "code",
   "execution_count": 49,
   "metadata": {
    "collapsed": true
   },
   "outputs": [],
   "source": [
    "def results(val_name, val_iter, annotations, model):\n",
    "    n_correct, predictions, labels, premises, hypotheses, real_labels, pair_ids = evaluate(val_iter, model)  \n",
    "    accuracy = n_correct / len(val_iter_matched.dataset) * 100\n",
    "    print(\"Accuracy: {0}\".format(accuracy))\n",
    "    \n",
    "    sub_accs = []\n",
    "    \n",
    "    for category in categories:\n",
    "        \n",
    "        num_correct = 0\n",
    "        total = 0\n",
    "        \n",
    "        for i in range(len(pair_ids)):\n",
    "            if category in annotations.get(pair_ids[i], []):\n",
    "                total += 1\n",
    "                \n",
    "                if predictions[i] == labels[i]:\n",
    "                    num_correct += 1\n",
    "                    \n",
    "        print('%s\\t%0.2f%%' % (category.strip('#'), num_correct/total*100))\n",
    "        \n",
    "        sub_accs.append(num_correct/total*100)\n",
    "                \n",
    "    \n",
    "    plot_confusion_matrix(labels, predictions, title='%s - %s\\nAccuracy: %0.2f%%'\n",
    "                                                  % (args.model_type, val_name, accuracy))\n",
    "    for i in range(3):\n",
    "        for j in range(3):\n",
    "            print_samples(labels, predictions, premises, hypotheses, i, j)\n",
    "            \n",
    "    return  predictions, labels, premises, hypotheses, pair_ids, sub_accs"
   ]
  },
  {
   "cell_type": "code",
   "execution_count": 50,
   "metadata": {
    "scrolled": false
   },
   "outputs": [
    {
     "name": "stderr",
     "output_type": "stream",
     "text": [
      "--save_model:14: DeprecationWarning: generator 'Iterator.__iter__' raised StopIteration\n"
     ]
    },
    {
     "name": "stdout",
     "output_type": "stream",
     "text": [
      "Accuracy: 71.85939887926644\n",
      "CONDITIONAL\t60.87%\n",
      "ACTIVE/PASSIVE\t86.67%\n",
      "PARAPHRASE\t84.00%\n",
      "COREF\t80.00%\n",
      "QUANTIFIER\t70.40%\n",
      "MODAL\t70.14%\n",
      "BELIEF\t59.09%\n",
      "NEGATION\t65.89%\n",
      "ANTO\t76.47%\n",
      "TENSE_DIFFERENCE\t66.67%\n",
      "QUANTITY/TIME_REASONING\t60.00%\n",
      "WORD_OVERLAP\t82.14%\n",
      "LONG_SENTENCE\t69.70%\n",
      "Normalized confusion matrix\n",
      "[[ 77.23   9.17  13.6 ]\n",
      " [ 13.51  72.89  13.6 ]\n",
      " [ 17.13  18.06  64.81]]\n",
      "TRUE LABEL: entailment\n",
      "PREDICTION: entailment\n",
      "\n",
      "Sample 1\n",
      "Premise: ah , triple pig !\n",
      "Hypothesis: the pig tripled .\n",
      "-------------------------------------------------------\n",
      "\n",
      "Sample 2\n",
      "Premise: you can alternate lazy days on the beach with some of the medi ? ­ter ? ­ra ? ­nean 's best deep-sea diving , boat excursions around pirate coves , canoeing and fishing on inland rivers , or hikes and picnics in the mountains .\n",
      "Hypothesis: outdoor activities range from beach-going , deep-sea diving , boat excursions , canoeing , and fishing , to hikes and picnics out in the wilderness .\n",
      "-------------------------------------------------------\n",
      "\n",
      "Sample 3\n",
      "Premise: the most recent attraction at the pyramid complex is a small museum housing the remains of a solar barque ( a cedar longboat ) which was found in 1954 .\n",
      "Hypothesis: the museum is tiny but houses the remains of a cedar longboat , discovered in 1954 .\n",
      "-------------------------------------------------------\n",
      "\n",
      "Sample 4\n",
      "Premise: because we do n't always read the newspaper sometimes it just sits around for a while and then we just chuck it\n",
      "Hypothesis: sometimes we throw the newspaper away without reading it .\n",
      "-------------------------------------------------------\n",
      "\n",
      "Sample 5\n",
      "Premise: if the collecting entity transfers the nonexchange revenue to the general fund or another entity , the amount is accounted for as a custodial activity by the collecting entity .\n",
      "Hypothesis: a custodial activity by the collecting entity is accounted for as such if the collecting entity transfers the nonexchange revenue to the general fund .\n",
      "-------------------------------------------------------\n",
      "\n",
      "TRUE LABEL: entailment\n",
      "PREDICTION: contradiction\n",
      "\n",
      "Sample 1\n",
      "Premise: ' she gets a little obsessive about her sauce .\n",
      "Hypothesis: she becomes overly focused about her sauce .\n",
      "-------------------------------------------------------\n",
      "\n",
      "Sample 2\n",
      "Premise: and the nurses are n't no see you have to pay that\n",
      "Hypothesis: you have to pay for that .\n",
      "-------------------------------------------------------\n",
      "\n",
      "Sample 3\n",
      "Premise: he bent down to study the tiny little jeweled gears .\n",
      "Hypothesis: the gears he examined were lined with jewels .\n",
      "-------------------------------------------------------\n",
      "\n",
      "Sample 4\n",
      "Premise: there are no shares of a stock that might someday come back , just piles of options as worthless as those shares of cook 's american business alliance .\n",
      "Hypothesis: those shares of stocks will never come back .\n",
      "-------------------------------------------------------\n",
      "\n",
      "Sample 5\n",
      "Premise: this testing of the marketplace may range from written or telephone contacts with knowledgeable federal and non-federal experts regarding similar or duplicate requirements and the results of any market test recently undertaken , to the more formal sources-sought announcements in pertinent publications ( e.g .\n",
      "Hypothesis: this marketplace testing ranges from informal to formal surveys .\n",
      "-------------------------------------------------------\n",
      "\n",
      "TRUE LABEL: entailment\n",
      "PREDICTION: neutral\n",
      "\n",
      "Sample 1\n",
      "Premise: huntington -- like buchanan -- claims not to be a cultural he is defending the integrity of all cultures , theirs and ours .\n",
      "Hypothesis: huntington and buchanan both defend others cultures as well as their own .\n",
      "-------------------------------------------------------\n",
      "\n",
      "Sample 2\n",
      "Premise: while headquarters staffing is to be streamlined , the staffing levels at the ports are to be maintained or increased .\n",
      "Hypothesis: staffing levels at the ports are maintained or increased as headquarters ' staff is streamlined .\n",
      "-------------------------------------------------------\n",
      "\n",
      "Sample 3\n",
      "Premise: two , most other productive operations are easier to study and understand , since few firms have 40,000 locations and a large proportion of their workforce working outdoors .\n",
      "Hypothesis: there are n't a lot of firm that can boast 40,000 different workplace locations .\n",
      "-------------------------------------------------------\n",
      "\n",
      "Sample 4\n",
      "Premise: yeah no i do n't know if there 's any any series that i pay attention to i try to watch cheers once in a while\n",
      "Hypothesis: i watch cheers everynow and then , but i do n't watch many series .\n",
      "-------------------------------------------------------\n",
      "\n",
      "Sample 5\n",
      "Premise: uh-huh you ca n't do that in a skirt poor thing\n",
      "Hypothesis: you need to wear something else .\n",
      "-------------------------------------------------------\n",
      "\n",
      "TRUE LABEL: contradiction\n",
      "PREDICTION: entailment\n",
      "\n",
      "Sample 1\n",
      "Premise: she was quite young , not more than eighteen .\n",
      "Hypothesis: she looked older even though she was only barely eighteen .\n",
      "-------------------------------------------------------\n",
      "\n",
      "Sample 2\n",
      "Premise: under deng xiaoping , beijing actively sought to cultivate a good bilateral relationship .\n",
      "Hypothesis: beijing sought to create a good distance .\n",
      "-------------------------------------------------------\n",
      "\n",
      "Sample 3\n",
      "Premise: on a december day in 1917 , british general allenby rode up to jaffa gate and dismounted from his horse because he would not ride where jesus walked ; he then accepted the surrender of the city after the ottoman turks had fled ( the flag of surrender was a bed-sheet from the american colony hotel ) .\n",
      "Hypothesis: in 1917 , the brittish general allenby surrendered the city using a bed-sheet .\n",
      "-------------------------------------------------------\n",
      "\n",
      "Sample 4\n",
      "Premise: even if the entire unified surplus were saved , gdp per capita would fall somewhat short of the u.s. historical average of doubling every 35 years .\n",
      "Hypothesis: even if the entire unified surplus were lost , gdp per capita would fall somewhat short of the u.s. historical average of doubling every 35 years .\n",
      "-------------------------------------------------------\n",
      "\n",
      "Sample 5\n",
      "Premise: the liberation of these old european colonies created the basis for postwar independence movements proclaiming the japanese slogan asia for the asians .\n",
      "Hypothesis: the japanese slogan is asia for the japanese .\n",
      "-------------------------------------------------------\n",
      "\n",
      "TRUE LABEL: contradiction\n",
      "PREDICTION: contradiction\n",
      "\n",
      "Sample 1\n",
      "Premise: maps of hiking trails are available at the government publications ceter , low block , government offices , 66 queensway in central .\n",
      "Hypothesis: there are no maps available of the hiking trails .\n",
      "-------------------------------------------------------\n",
      "\n",
      "Sample 2\n",
      "Premise: and environmentalists have on occasion attacked religion for promoting human domination over the natural world .\n",
      "Hypothesis: environmentalists have never attacked religions .\n",
      "-------------------------------------------------------\n",
      "\n",
      "Sample 3\n",
      "Premise: we are assured of success ? ''\n",
      "Hypothesis: `` we are going to fail , are n't we ? ''\n",
      "-------------------------------------------------------\n",
      "\n",
      "Sample 4\n",
      "Premise: so is the salt , drying in the huge , square pans at las salinas in the south .\n",
      "Hypothesis: pepper is made wet in las salinas .\n",
      "-------------------------------------------------------\n",
      "\n",
      "Sample 5\n",
      "Premise: there 's nobody telling that landlord to fix the property , simmons said .\n",
      "Hypothesis: simmons refused to comment on what the landlord had been told .\n",
      "-------------------------------------------------------\n",
      "\n",
      "TRUE LABEL: contradiction\n",
      "PREDICTION: neutral\n",
      "\n",
      "Sample 1\n",
      "Premise: good-bye . '' julius was bending over the car .\n",
      "Hypothesis: julius would n't leave the house .\n",
      "-------------------------------------------------------\n",
      "\n",
      "Sample 2\n",
      "Premise: and uh well if you if you got got him a power mower it 'd probably take him a lot less time to do it but i enjoy doing it i feel good doing it uh i i feel a lot better doing it with a power mower with that with a with a pull tractor on it so i do n't have to push so hard\n",
      "Hypothesis: keeping the old push mower is the best idea , since it gets the job done as fast as a power mower .\n",
      "-------------------------------------------------------\n",
      "\n",
      "Sample 3\n",
      "Premise: on a december day in 1917 , british general allenby rode up to jaffa gate and dismounted from his horse because he would not ride where jesus walked ; he then accepted the surrender of the city after the ottoman turks had fled ( the flag of surrender was a bed-sheet from the american colony hotel ) .\n",
      "Hypothesis: in 1917 , the brittish general allenby surrendered the city using a bed-sheet before committing suicide .\n",
      "-------------------------------------------------------\n",
      "\n",
      "Sample 4\n",
      "Premise: oh really it would n't matter if we plant them when it was starting to get warmer\n",
      "Hypothesis: the plants are strictly seasonal , only grown during the winter .\n",
      "-------------------------------------------------------\n",
      "\n",
      "Sample 5\n",
      "Premise: and it just depends on how bad that person is\n",
      "Hypothesis: it depends on the condition of the dog .\n",
      "-------------------------------------------------------\n",
      "\n",
      "TRUE LABEL: neutral\n",
      "PREDICTION: entailment\n",
      "\n",
      "Sample 1\n",
      "Premise: i have to tell you , i tried to understand it .\n",
      "Hypothesis: i have figured it out .\n",
      "-------------------------------------------------------\n",
      "\n",
      "Sample 2\n",
      "Premise: exhibitions are often held in the splendid entrance hall .\n",
      "Hypothesis: the exhibitions in the entrance hall are usually the most exciting .\n",
      "-------------------------------------------------------\n",
      "\n",
      "Sample 3\n",
      "Premise: dan burton , in an appearance on good morning , america , said he had sent a letter to attorney general janet reno urging her to have the fbi seize the kuhn paperback immediately so it can be examined by its own labs .\n",
      "Hypothesis: dan burton was the 500th guest on good morning , america .\n",
      "-------------------------------------------------------\n",
      "\n",
      "Sample 4\n",
      "Premise: it seeks genuine direct elections after a period that is sufficient to organize alternative parties and prepare a campaign based on freedom of speech and other civil rights , the right to have free trade unions , the release of more than 200 political prisoners , debt relief , stronger penalties for corruption and pollution , no amnesty for suharto and his fellow thieves , and a respite for the poor from the hardest edges of economic reform .\n",
      "Hypothesis: debt relief is the main motivator for people in this democracy .\n",
      "-------------------------------------------------------\n",
      "\n",
      "Sample 5\n",
      "Premise: emergency physician attitudes concerning intervention for alcohol abuse/dependence in the emergency department .\n",
      "Hypothesis: physicians have different attitudes concerning substance abuse in the er .\n",
      "-------------------------------------------------------\n",
      "\n",
      "TRUE LABEL: neutral\n",
      "PREDICTION: contradiction\n",
      "\n",
      "Sample 1\n",
      "Premise: 'not part of your biography .\n",
      "Hypothesis: what is being shown is not part of my biography .\n",
      "-------------------------------------------------------\n",
      "\n",
      "Sample 2\n",
      "Premise: clearly , the press has done a lousy job with its focus on behavior such as infidelity or drug use that most people do n't care about .\n",
      "Hypothesis: the press is out of touch with citizens .\n",
      "-------------------------------------------------------\n",
      "\n",
      "Sample 3\n",
      "Premise: cultural festivals are one opportunity , but the better way is at a private wedding or feast day when the performances are set in their true context .\n",
      "Hypothesis: cultural festivals are out of context and do not feel as authentic as genuine feast day or wedding performances .\n",
      "-------------------------------------------------------\n",
      "\n",
      "Sample 4\n",
      "Premise: uh-huh uh-huh uh-huh yeah well that 's really neat\n",
      "Hypothesis: that 's amazing , i 've never seen anything like it .\n",
      "-------------------------------------------------------\n",
      "\n",
      "Sample 5\n",
      "Premise: in our town of five thousand we have one that is uh local fm am station and their news is fed from cnn too uh it 's more of uh\n",
      "Hypothesis: the town did not have anything worth reporting on the radio about local events .\n",
      "-------------------------------------------------------\n",
      "\n",
      "TRUE LABEL: neutral\n",
      "PREDICTION: neutral\n",
      "\n",
      "Sample 1\n",
      "Premise: everybody has this quote from nba commissioner david you can not strike your boss and still hold your job -- unless you play in the nba .\n",
      "Hypothesis: nba commissioner has given the same quote to everybody , but he also talked about other things .\n",
      "-------------------------------------------------------\n",
      "\n",
      "Sample 2\n",
      "Premise: that 's an opportunity that very few people have had .\n",
      "Hypothesis: not many people get the chance to swim with sharks .\n",
      "-------------------------------------------------------\n",
      "\n",
      "Sample 3\n",
      "Premise: you 'll find galleries in all the major towns and in some of the smaller villages .\n",
      "Hypothesis: the galleries in major towns are more interesting than those in smaller villages .\n",
      "-------------------------------------------------------\n",
      "\n",
      "Sample 4\n",
      "Premise: yeah it 's definitely a way out of the way where where as\n",
      "Hypothesis: i was able to find my way out of the corn maze\n",
      "-------------------------------------------------------\n",
      "\n",
      "Sample 5\n",
      "Premise: life track\n",
      "Hypothesis: jobs and work .\n",
      "-------------------------------------------------------\n",
      "\n"
     ]
    },
    {
     "data": {
      "image/png": "[encoded data removed]",
      "text/plain": [
       "<matplotlib.figure.Figure at 0x15dac2438>"
      ]
     },
     "metadata": {},
     "output_type": "display_data"
    }
   ],
   "source": [
    "matched_predictions, matched_labels, matched_premises, matched_hypotheses, matched_pair_ids, matched_accs = results('val_matched', val_iter_matched, matched_annotations, model)"
   ]
  },
  {
   "cell_type": "code",
   "execution_count": 51,
   "metadata": {
    "scrolled": false
   },
   "outputs": [
    {
     "name": "stderr",
     "output_type": "stream",
     "text": [
      "--save_model:14: DeprecationWarning: generator 'Iterator.__iter__' raised StopIteration\n"
     ]
    },
    {
     "name": "stdout",
     "output_type": "stream",
     "text": [
      "Accuracy: 71.62506367804382\n",
      "CONDITIONAL\t61.54%\n",
      "ACTIVE/PASSIVE\t70.00%\n",
      "PARAPHRASE\t84.21%\n",
      "COREF\t76.67%\n",
      "QUANTIFIER\t65.00%\n",
      "MODAL\t69.84%\n",
      "BELIEF\t76.27%\n",
      "NEGATION\t73.08%\n",
      "ANTO\t85.00%\n",
      "TENSE_DIFFERENCE\t72.22%\n",
      "QUANTITY/TIME_REASONING\t54.17%\n",
      "WORD_OVERLAP\t72.97%\n",
      "LONG_SENTENCE\t65.14%\n",
      "Normalized confusion matrix\n",
      "[[ 78.08   8.81  13.11]\n",
      " [ 13.46  72.96  13.58]\n",
      " [ 19.53  17.77  62.7 ]]\n",
      "TRUE LABEL: entailment\n",
      "PREDICTION: entailment\n",
      "\n",
      "Sample 1\n",
      "Premise: faa headquarters had by this time established an open line of communication with the command center at herndon and instructed it to poll all its centers about suspect aircraft .\n",
      "Hypothesis: the herndon command center was told to ask about suspect aircraft at all centers belonging to it .\n",
      "-------------------------------------------------------\n",
      "\n",
      "Sample 2\n",
      "Premise: during the course of the morning , there were multiple erroneous reports of hijacked aircraft .\n",
      "Hypothesis: there were many reports that morning with incorrect information about the hijacking .\n",
      "-------------------------------------------------------\n",
      "\n",
      "Sample 3\n",
      "Premise: last year , you gave us a contribution of $ xx , for which we , and the people you helped , are grateful .\n",
      "Hypothesis: donating money last year made us and some people who needed help happy .\n",
      "-------------------------------------------------------\n",
      "\n",
      "Sample 4\n",
      "Premise: what does he do ?\n",
      "Hypothesis: what is his occupation ?\n",
      "-------------------------------------------------------\n",
      "\n",
      "Sample 5\n",
      "Premise: // the gas station part .\n",
      "Hypothesis: the scene with the gas station .\n",
      "-------------------------------------------------------\n",
      "\n",
      "TRUE LABEL: entailment\n",
      "PREDICTION: contradiction\n",
      "\n",
      "Sample 1\n",
      "Premise: the call lasted about two minutes , after which policastro and a colleague tried unsuccessfully to contact the flight .\n",
      "Hypothesis: policastro and a colleague were not able to call the flight .\n",
      "-------------------------------------------------------\n",
      "\n",
      "Sample 2\n",
      "Premise: the deadline for donations from each class will be july 31 .\n",
      "Hypothesis: donations wo n't be accepted after the 31st of july .\n",
      "-------------------------------------------------------\n",
      "\n",
      "Sample 3\n",
      "Premise: levi 's uses proprietary software to make these modifications , but other software systems are commercially available for modifying standard patterns and producing a marker to guide fabric cutting .\n",
      "Hypothesis: levi 's have their own in-house software for the purpose of customizing items .\n",
      "-------------------------------------------------------\n",
      "\n",
      "Sample 4\n",
      "Premise: these processes are often reinforced with such comments from parents and teachers as , you 'll never get anywhere nowadays without a college education .\n",
      "Hypothesis: parents and teachers often make comments that college education is highly important .\n",
      "-------------------------------------------------------\n",
      "\n",
      "Sample 5\n",
      "Premise: regardless of how customization was done in the past , consumers paid more for the end product .\n",
      "Hypothesis: the final product will be more costly for buyers , no matter what method of customization was used .\n",
      "-------------------------------------------------------\n",
      "\n",
      "TRUE LABEL: entailment\n",
      "PREDICTION: neutral\n",
      "\n",
      "Sample 1\n",
      "Premise: but via a network that allows contractors access , manufacturers ' headquarters can make sure that the information available is the most recent and complete .\n",
      "Hypothesis: being able to access the manufacturer 's network would ensure that contractors would have the updated information every time .\n",
      "-------------------------------------------------------\n",
      "\n",
      "Sample 2\n",
      "Premise: each prospective and current program is evaluated on the basis of its support of one or more aspects of women 's needs .\n",
      "Hypothesis: every program in the ywca is judged on how well it helps women .\n",
      "-------------------------------------------------------\n",
      "\n",
      "Sample 3\n",
      "Premise: they 're going to lessons for this and that , and sports , and they 're playing interactive games with their computer and , uh , watching tv , and i think , really , they 're not reading on their own , like maybe we did when i was that age because we did n't have all those other things to do .\n",
      "Hypothesis: technology has impacted their desire to read books .\n",
      "-------------------------------------------------------\n",
      "\n",
      "Sample 4\n",
      "Premise: girl scouting benefits parent/child relationships .\n",
      "Hypothesis: young girls that take part grow stronger bonds with their parents .\n",
      "-------------------------------------------------------\n",
      "\n",
      "Sample 5\n",
      "Premise: big sisters helps fill that void by matching caring , responsible adult volunteers with at-risk girls , ages 8-14 .\n",
      "Hypothesis: the at-risk girls are paired with big sisters .\n",
      "-------------------------------------------------------\n",
      "\n",
      "TRUE LABEL: contradiction\n",
      "PREDICTION: entailment\n",
      "\n",
      "Sample 1\n",
      "Premise: the ymca of the usa also named it an outstanding international program in 1997 .\n",
      "Hypothesis: in 1994 , the ymca of the usa also named it an outstanding international program .\n",
      "-------------------------------------------------------\n",
      "\n",
      "Sample 2\n",
      "Premise: after our caseworkers meet with these families and their children they often find they lack even the basic necessities such as cooking utensils , beds , cleaning supplies , etc .\n",
      "Hypothesis: after an initial take-in visit , our caseworkers often determine most of these families live with the basic tools of day-to-day life , including blankets or toothbrushes .\n",
      "-------------------------------------------------------\n",
      "\n",
      "Sample 3\n",
      "Premise: admittedly , there is no such thing as perfect synonymy , but the meanings of many pairs of words are close enough for this term to be used in the context of a pastime like crosswords .\n",
      "Hypothesis: there are many words that find themselves in a relationship of perfect synonymy .\n",
      "-------------------------------------------------------\n",
      "\n",
      "Sample 4\n",
      "Premise: at 9:37:46 , american airlines flight 77 crashed into the pentagon , traveling at approximately 530 miles per hour .\n",
      "Hypothesis: american airlines flight 77 hit the pentagon traveling at 535 miles per hour .\n",
      "-------------------------------------------------------\n",
      "\n",
      "Sample 5\n",
      "Premise: because , well , no , ines was putting up an argument that- , when he told her , no , he said , e , luis alonso , i may be going to die , he said , because so much blood loss , he said .\n",
      "Hypothesis: he said that there was no chance he was going to die of blood loss .\n",
      "-------------------------------------------------------\n",
      "\n",
      "TRUE LABEL: contradiction\n",
      "PREDICTION: contradiction\n",
      "\n",
      "Sample 1\n",
      "Premise: wal-mart is the most well known of the early lean retailers .\n",
      "Hypothesis: wal-mart refuses to adopt lean retailing .\n",
      "-------------------------------------------------------\n",
      "\n",
      "Sample 2\n",
      "Premise: by now , you should have received registration materials for the fall alumni dental conference .\n",
      "Hypothesis: you will not be receiving any registration materials for the fall alumni dental conference .\n",
      "-------------------------------------------------------\n",
      "\n",
      "Sample 3\n",
      "Premise: the remaining 20 percent are either invented ( laser , bogus , splurge ) or have been borrowed from more than 200 other languages or dialects from arabic to zulu .\n",
      "Hypothesis: the english language is completely unique and takes nothing from any other language .\n",
      "-------------------------------------------------------\n",
      "\n",
      "Sample 4\n",
      "Premise: because you are an organization that cares , you are invited to become an integral part of this fabulous event by becoming a corporate sponsor for jcc auction '99 .\n",
      "Hypothesis: the organization did n't get invited .\n",
      "-------------------------------------------------------\n",
      "\n",
      "Sample 5\n",
      "Premise: this group of nations provided 39 percent of all apparel imports in 1964 and 51 percent of all apparel imports by 1988 ( measured in square-meter equivalents , a measure of quantity ) .\n",
      "Hypothesis: this group of nations provided 60 percent of all apparel imports in 1995 .\n",
      "-------------------------------------------------------\n",
      "\n",
      "TRUE LABEL: contradiction\n",
      "PREDICTION: neutral\n",
      "\n",
      "Sample 1\n",
      "Premise: counting definitions is a start .\n",
      "Hypothesis: counting definitions is a terrible start .\n",
      "-------------------------------------------------------\n",
      "\n",
      "Sample 2\n",
      "Premise: as for macbeth 's great bond , this is a crux over which commentators have argued for years .\n",
      "Hypothesis: there is a general consensus among everyone who reads the play about this .\n",
      "-------------------------------------------------------\n",
      "\n",
      "Sample 3\n",
      "Premise: the syllabication of headwords is not an important feature in british the collins english dictionary , which offered an elaborate system in its first edition ( 1979 ) , set the words solid in its second edition ( 1986 ) , but i am informed that the major portion of the correspondence received at collins publishing concerning the dictionary concerns this change and is critical of it .\n",
      "Hypothesis: the syllabication of headwords is the most important feature of the british the collins dictionary .\n",
      "-------------------------------------------------------\n",
      "\n",
      "Sample 4\n",
      "Premise: spreading the cloth many plies thick without stressing the cloth is , again , one of the quality steps of getting ready to sew .\n",
      "Hypothesis: you should stress the cloth prior to sewing for a quality product .\n",
      "-------------------------------------------------------\n",
      "\n",
      "Sample 5\n",
      "Premise: at the very least , you 'll give one child the chance to see god 's face , and feel his love .\n",
      "Hypothesis: at the very least , you will lead a child to turn to drugs and crime .\n",
      "-------------------------------------------------------\n",
      "\n",
      "TRUE LABEL: neutral\n",
      "PREDICTION: entailment\n",
      "\n",
      "Sample 1\n",
      "Premise: do you like riding your bike a lot ?\n",
      "Hypothesis: how far have you ridden your bike ?\n",
      "-------------------------------------------------------\n",
      "\n",
      "Sample 2\n",
      "Premise: in addition , we will have soft drinks and a raffle , so that you can walk home with a great prize !\n",
      "Hypothesis: in addition to the raffle and soft drinks , we will also have food .\n",
      "-------------------------------------------------------\n",
      "\n",
      "Sample 3\n",
      "Premise: i hope you join our family of patients , loved ones and professionals .\n",
      "Hypothesis: both patients and relatives are on an equal footing with the professionals we employ .\n",
      "-------------------------------------------------------\n",
      "\n",
      "Sample 4\n",
      "Premise: goodwill helps people get off of public assistance .\n",
      "Hypothesis: public assistance should be improved and streamlined .\n",
      "-------------------------------------------------------\n",
      "\n",
      "Sample 5\n",
      "Premise: i can remember mom and dad saying grandmom in the kitchen hollering , daddy , daddy , daddy i wish you would n't talk like that in front of the girls .\n",
      "Hypothesis: i wish you would n't use swear words in front of the girls .\n",
      "-------------------------------------------------------\n",
      "\n",
      "TRUE LABEL: neutral\n",
      "PREDICTION: contradiction\n",
      "\n",
      "Sample 1\n",
      "Premise: who would want to wear such a scent ?\n",
      "Hypothesis: the scent was atrocious , like vomit or garbage .\n",
      "-------------------------------------------------------\n",
      "\n",
      "Sample 2\n",
      "Premise: he was paying him five bucks an hour and he would , he could work all day wednesday and uh , but i believe it was on that job there , that kavalo , that dad said , look boy you can read a tape measure better that this forty year old man can so i 'll give you five bucks an hour if you prove you can do it .\n",
      "Hypothesis: dad could n't read a tape measure well .\n",
      "-------------------------------------------------------\n",
      "\n",
      "Sample 3\n",
      "Premise: note that the i/s standard deviations control for differences in firm size .\n",
      "Hypothesis: firm size does not typically vary too greatly .\n",
      "-------------------------------------------------------\n",
      "\n",
      "Sample 4\n",
      "Premise: i guess i want to say that it 's been a real positive experience living here , because my , my mother really wants to move back up north because that 's where she 's from .\n",
      "Hypothesis: my mother does not really like living here .\n",
      "-------------------------------------------------------\n",
      "\n",
      "Sample 5\n",
      "Premise: i do n't , i kind of do n't think about that though , because i 'm like my life is my life , you know ?\n",
      "Hypothesis: i do what i want with my life .\n",
      "-------------------------------------------------------\n",
      "\n",
      "TRUE LABEL: neutral\n",
      "PREDICTION: neutral\n",
      "\n",
      "Sample 1\n",
      "Premise: it can help purchase clothing , school supplies , books and educational tools throughout the year .\n",
      "Hypothesis: a donation of even $ 2 can make a difference for a child .\n",
      "-------------------------------------------------------\n",
      "\n",
      "Sample 2\n",
      "Premise: al qaeda members could travel freely within the country , enter and exit it without visas or any immigration procedures , purchase and import vehicles and weapons , and enjoy the use of official afghan ministry of defense license plates .\n",
      "Hypothesis: al qaeda members had unlimited powers within the country and could do pretty much anything they wanted to .\n",
      "-------------------------------------------------------\n",
      "\n",
      "Sample 3\n",
      "Premise: the employers in the stable shops with employees whom they were anxious to keep suffered as much as we did because the union was weak .\n",
      "Hypothesis: workers who had good union representation benefited from improved conditions since their employers could n't easily get rid of them .\n",
      "-------------------------------------------------------\n",
      "\n",
      "Sample 4\n",
      "Premise: touching the lives of youth on a daily basis , helping develop new skills , and preparing children to face the challenges of the next century are the club 's strengths .\n",
      "Hypothesis: helping kids every day so they can grow their own vegetables is important .\n",
      "-------------------------------------------------------\n",
      "\n",
      "Sample 5\n",
      "Premise: hand guns of the fourteenth century were equipped with touchholes ; in order to discharge such a weapon it was necessary to touch it with a torch .\n",
      "Hypothesis: the touchhole was used in loading the gun as well .\n",
      "-------------------------------------------------------\n",
      "\n"
     ]
    },
    {
     "data": {
      "image/png": "[encoded data removed]",
      "text/plain": [
       "<matplotlib.figure.Figure at 0x15daa1470>"
      ]
     },
     "metadata": {},
     "output_type": "display_data"
    }
   ],
   "source": [
    "mismatched_predictions, mismatched_labels, mismatched_premises, mismatched_hypotheses, mismatched_pair_ids, mismatched_accs = results('val_mismatched', val_iter_unmatched, mismatched_annotations, model)"
   ]
  },
  {
   "cell_type": "markdown",
   "metadata": {
    "collapsed": true
   },
   "source": [
    "# Because I know you're lazy: LaTeX table!"
   ]
  },
  {
   "cell_type": "code",
   "execution_count": 25,
   "metadata": {},
   "outputs": [
    {
     "name": "stdout",
     "output_type": "stream",
     "text": [
      "\\begin{tabular}{l | c | c}\n",
      "\\textbf{Category} & Matched (\\%) & Mismatched (\\%) \\\\\n",
      "\\hline \\\\\n",
      "Conditional & 60.87 & 61.54 \\\\ \n",
      "Active / Passive & 86.67 & 70.00 \\\\ \n",
      "Paraphrase & 84.00 & 84.21 \\\\ \n",
      "Corefer & 80.00 & 76.67 \\\\ \n",
      "Quantifier & 70.40 & 65.00 \\\\ \n",
      "Modal & 70.14 & 69.84 \\\\ \n",
      "Belief & 59.09 & 76.27 \\\\ \n",
      "Negation & 65.89 & 73.08 \\\\ \n",
      "Antonym & 76.47 & 85.00 \\\\ \n",
      "Tense Difference & 66.67 & 72.22 \\\\ \n",
      "Quantity / Time & 60.00 & 54.17 \\\\ \n",
      "Word Overlap & 82.14 & 72.97 \\\\ \n",
      "Long Sentence & 69.70 & 65.14 \\\\ \n",
      "\\end{tabular}\n"
     ]
    }
   ],
   "source": [
    "latex = \"\"\"\\\\begin{tabular}{l | c | c}\n",
    "\\\\textbf{Category} & Matched (\\%) & Mismatched (\\%) \\\\\\\\\n",
    "\\hline \\\\\\\\\n",
    "\"\"\"\n",
    "\n",
    "for i in range(len(latex_categories)):\n",
    "    latex += latex_categories[i] + ' & %.2f & %.2f \\\\\\\\ \\n' % (matched_accs[i], mismatched_accs[i])\n",
    "\n",
    "latex += '\\end{tabular}'\n",
    "\n",
    "print(latex)"
   ]
  },
  {
   "cell_type": "markdown",
   "metadata": {
    "collapsed": true
   },
   "source": [
    "# Attention graph (only for ESIM and DA)"
   ]
  },
  {
   "cell_type": "markdown",
   "metadata": {},
   "source": [
    "Get a single batch, stupid but I don't know how else to do it"
   ]
  },
  {
   "cell_type": "code",
   "execution_count": 26,
   "metadata": {
    "collapsed": true
   },
   "outputs": [],
   "source": [
    "def single_batch(iterator, num):\n",
    "    \n",
    "    real_iter = get_batch(iterator.data(), args.batch_size)\n",
    "    \n",
    "    i = 0\n",
    "    \n",
    "    for batch, real_batch in zip(iterator, real_iter):\n",
    "        i += 1\n",
    "        if i >= num:\n",
    "            break\n",
    "            \n",
    "    real_batch.reverse()\n",
    "    \n",
    "    return batch, real_batch\n",
    "    "
   ]
  },
  {
   "cell_type": "code",
   "execution_count": 27,
   "metadata": {
    "collapsed": true
   },
   "outputs": [],
   "source": [
    "def get_masks(input, pad_token=1):\n",
    "    return (input != pad_token).unsqueeze(2).float()\n",
    "\n",
    "def softmask(input, mask):\n",
    "    \"\"\"\n",
    "    input is of dims batch_size x len_1 x len_2\n",
    "    mask if of dims batch_size x len_2 x 1\n",
    "    \"\"\"\n",
    "    batch_size, len_1, len_2 = input.size()\n",
    "\n",
    "    assert len_2 == mask.size(1)\n",
    "\n",
    "    exp_input = torch.exp(input)\n",
    "    divisors = torch.bmm(exp_input, mask).view(batch_size, len_1)  # batch_size x len_1\n",
    "    masked = torch.mul(exp_input, torch.transpose(mask.expand(batch_size, len_2, len_1), 1, 2))\n",
    "\n",
    "    return masked.div(divisors.unsqueeze(2).expand_as(masked))  # batch_size x len_1 x len_2"
   ]
  },
  {
   "cell_type": "code",
   "execution_count": 28,
   "metadata": {
    "collapsed": true
   },
   "outputs": [],
   "source": [
    "def get_attn_DA(model, x):\n",
    "    \n",
    "    p = torch.transpose(x.premise, 0, 1)\n",
    "    h = torch.transpose(x.hypothesis, 0, 1)\n",
    "\n",
    "    batch_size = p.size(0)\n",
    "\n",
    "    ### Get max sequence lengths ###\n",
    "    p_length = p.size(1)\n",
    "    h_length = h.size(1)\n",
    "\n",
    "    ### Get masks for true sequence length ###\n",
    "    p_mask = get_masks(p)\n",
    "    h_mask = get_masks(h)\n",
    "\n",
    "    # Embed premise & hypothesis\n",
    "    p_embedded = model.embed(p)\n",
    "    h_embedded = model.embed(h)\n",
    "\n",
    "    # Apply initial linear encoding\n",
    "    p_linear = model.in_linear(p_embedded.view(batch_size * p_length, -1)).view(batch_size, p_length, -1)\n",
    "    h_linear = model.in_linear(h_embedded.view(batch_size * h_length, -1)).view(batch_size, h_length, -1)\n",
    "\n",
    "    if model.intra_sentence:\n",
    "        p_intra = model.mlp_intra(p_linear.view(batch_size * p_length, -1)).view(batch_size, p_length, -1)\n",
    "        h_intra = model.mlp_intra(h_linear.view(batch_size * h_length, -1)).view(batch_size, h_length, -1)\n",
    "\n",
    "        # Self Attend\n",
    "        p_self_scores = torch.bmm(p_intra, torch.transpose(p_intra, 1, 2))\n",
    "        p_probs = softmask(p_self_scores, p_mask)\n",
    "        p_intra = torch.cat((p_linear, torch.bmm(p_probs, p_linear)), 2)\n",
    "\n",
    "        h_self_scores = torch.bmm(h_intra, torch.transpose(h_intra, 1, 2))\n",
    "        h_probs = softmask(h_self_scores, h_mask)\n",
    "        h_intra = torch.cat((h_linear, torch.bmm(h_probs, h_linear)), 2)\n",
    "        \n",
    "        # Apply F\n",
    "        F_p = model.mlp_F(p_intra.view(batch_size * p_length, -1)).view(batch_size, p_length, -1)\n",
    "        F_h = model.mlp_F(h_intra.view(batch_size * h_length, -1)).view(batch_size, h_length, -1)\n",
    "\n",
    "    else:\n",
    "        # Apply F\n",
    "        F_p = model.mlp_F(p_linear.view(batch_size * p_length, -1)).view(batch_size, p_length, -1)\n",
    "        F_h = model.mlp_F(h_linear.view(batch_size * h_length, -1)).view(batch_size, h_length, -1)\n",
    "\n",
    "    # Attend\n",
    "    sim_scores = torch.bmm(F_p, torch.transpose(F_h, 1, 2))\n",
    "    \n",
    "    p_probs = softmask(sim_scores, h_mask)\n",
    "    \n",
    "    return p_probs.data.numpy(), h_probs.data.numpy(), p_mask.data.numpy(), h_mask.data.numpy()"
   ]
  },
  {
   "cell_type": "code",
   "execution_count": 29,
   "metadata": {
    "collapsed": true
   },
   "outputs": [],
   "source": [
    "def get_attn_ESIM(model, x):\n",
    "\n",
    "    p = x.premise #[sentence_length x batch_size]\n",
    "    h = x.hypothesis #[sentence_length x batch_size]\n",
    "\n",
    "    ### Get max sequence lengths ###\n",
    "    p_length = p.size(0)\n",
    "    h_length = h.size(0)\n",
    "\n",
    "    ### Get masks for true sequence length ###\n",
    "    mask_p = get_masks(p).transpose(0, 1)\n",
    "    mask_h = get_masks(h).transpose(0, 1)\n",
    "\n",
    "    ### Embed inputs ###\n",
    "    p = model.emb_drop(model.embed(p))\n",
    "    h = model.emb_drop(model.embed(h))\n",
    "\n",
    "    ### First biLSTM layer ###\n",
    "    premise_bi, states = model.premise(p)\n",
    "    hypothesis_bi, states = model.hypothesis(h)\n",
    "\n",
    "    ### Attention ###\n",
    "    premise_bi = premise_bi.transpose(0, 1)\n",
    "    hypothesis_bi = hypothesis_bi.transpose(0, 1)\n",
    "\n",
    "    sim_scores = torch.bmm(premise_bi, torch.transpose(hypothesis_bi, 1, 2))\n",
    "\n",
    "    p_probs = softmask(sim_scores, mask_h)\n",
    "    h_probs = softmask(torch.transpose(sim_scores, 1, 2), mask_p)\n",
    "\n",
    "    return p_probs.data.numpy(), h_probs.data.numpy(), mask_p.data.numpy(), mask_h.data.numpy()"
   ]
  },
  {
   "cell_type": "code",
   "execution_count": 30,
   "metadata": {
    "collapsed": true
   },
   "outputs": [],
   "source": [
    "def make_plot(h_attn, p, h):   \n",
    "    h_attn = h_attn[:len(h), :len(p)]\n",
    "\n",
    "    plt.figure(figsize=(6, 6))\n",
    "    plt.imshow(np.transpose(h_attn), cmap=plt.cm.Blues)\n",
    "    x_ticks = np.arange(len(h))\n",
    "    plt.xticks(x_ticks, h, rotation=90)\n",
    "    plt.xlabel('Hypothesis')\n",
    "    y_ticks = np.arange(len(p))\n",
    "    plt.yticks(y_ticks, p)\n",
    "    plt.ylabel('Premise')\n",
    "\n",
    "    plt.tight_layout()\n"
   ]
  },
  {
   "cell_type": "code",
   "execution_count": 31,
   "metadata": {},
   "outputs": [],
   "source": [
    "values, words = single_batch(val_iter_matched, 30)\n",
    "# p_attns, h_attns, mask_p, mask_h = get_attn_ESIM(model, values)\n",
    "p_attns, h_attns, mask_p, mask_h = get_attn_DA(model, values)"
   ]
  },
  {
   "cell_type": "code",
   "execution_count": 32,
   "metadata": {},
   "outputs": [
    {
     "data": {
      "image/png": "[encoded data removed]",
      "text/plain": [
       "<matplotlib.figure.Figure at 0x15d0ba630>"
      ]
     },
     "metadata": {},
     "output_type": "display_data"
    }
   ],
   "source": [
    "i = 8\n",
    "make_plot(h_attns[i], words[i].premise, words[i].hypothesis)"
   ]
  },
  {
   "cell_type": "code",
   "execution_count": 68,
   "metadata": {},
   "outputs": [
    {
     "data": {
      "text/plain": [
       "2"
      ]
     },
     "execution_count": 68,
     "metadata": {},
     "output_type": "execute_result"
    }
   ],
   "source": [
    "matched_predictions[list(matched_pair_ids).index('8989n')]"
   ]
  },
  {
   "cell_type": "code",
   "execution_count": null,
   "metadata": {
    "collapsed": true
   },
   "outputs": [],
   "source": []
  }
 ],
 "metadata": {
  "kernelspec": {
   "display_name": "NLP",
   "language": "python",
   "name": "nlp"
  },
  "language_info": {
   "codemirror_mode": {
    "name": "ipython",
    "version": 3
   },
   "file_extension": ".py",
   "mimetype": "text/x-python",
   "name": "python",
   "nbconvert_exporter": "python",
   "pygments_lexer": "ipython3",
   "version": "3.6.2"
  }
 },
 "nbformat": 4,
 "nbformat_minor": 2
}
