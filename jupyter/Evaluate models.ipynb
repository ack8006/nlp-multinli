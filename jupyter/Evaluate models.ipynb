{
 "cells": [
  {
   "cell_type": "code",
   "execution_count": 1,
   "metadata": {
    "collapsed": true,
    "deletable": true,
    "editable": true
   },
   "outputs": [],
   "source": [
    "import sys\n",
    "import os\n",
    "import torch\n",
    "import torch.nn as nn\n",
    "import torch.nn.functional as F\n",
    "from torchtext import data\n",
    "import nltk\n",
    "import numpy as np\n",
    "from argparse import ArgumentParser\n",
    "from sklearn import metrics\n",
    "import matplotlib.pyplot as plt\n",
    "import itertools\n",
    "from matplotlib import rcParams\n",
    "rcParams['axes.titlepad'] = 20 \n",
    "rcParams['axes.labelpad'] = 15\n",
    "%matplotlib inline"
   ]
  },
  {
   "cell_type": "code",
   "execution_count": 2,
   "metadata": {
    "collapsed": false,
    "deletable": true,
    "editable": true
   },
   "outputs": [
    {
     "data": {
      "text/plain": [
       "'/scratch/jmw784/nlp-multinli/models'"
      ]
     },
     "execution_count": 2,
     "metadata": {},
     "output_type": "execute_result"
    }
   ],
   "source": [
    "os.chdir('../models')\n",
    "os.getcwd()"
   ]
  },
  {
   "cell_type": "code",
   "execution_count": 3,
   "metadata": {
    "collapsed": false,
    "deletable": true,
    "editable": true
   },
   "outputs": [],
   "source": [
    "from models import ConcatModel, CosineModel, ESIM\n",
    "\n",
    "sys.path.append('../utilities')\n",
    "from tokenizers import custom_tokenizer\n",
    "from utils import get_dataset, get_args"
   ]
  },
  {
   "cell_type": "markdown",
   "metadata": {
    "deletable": true,
    "editable": true
   },
   "source": [
    "# Loading arguments"
   ]
  },
  {
   "cell_type": "markdown",
   "metadata": {
    "deletable": true,
    "editable": true
   },
   "source": [
    "If you want to get the config from the slurm file"
   ]
  },
  {
   "cell_type": "code",
   "execution_count": 4,
   "metadata": {
    "collapsed": false,
    "deletable": true,
    "editable": true
   },
   "outputs": [],
   "source": [
    "F = open('../slurm/main.slurm','r')\n",
    "options = F.read().split('main.py ')[1].strip('\\n')"
   ]
  },
  {
   "cell_type": "markdown",
   "metadata": {
    "deletable": true,
    "editable": true
   },
   "source": [
    "Else, if you want to paste the args here:"
   ]
  },
  {
   "cell_type": "code",
   "execution_count": 4,
   "metadata": {
    "collapsed": false,
    "deletable": true,
    "editable": true
   },
   "outputs": [],
   "source": [
    "options = '--cuda --save_model --model_type ESIM --max_vocab_size 15000 --n_epochs 15 --batch_size 64 --d_embed 300 --d_hidden 200 --n_layers 1 --lr 0.001 --dropout_emb 0.2 --dropout_rnn 0.0 --dropout_mlp 0.5 --word_vectors glove.6B.300d --bidir --dev_every 1550'"
   ]
  },
  {
   "cell_type": "code",
   "execution_count": 5,
   "metadata": {
    "collapsed": true,
    "deletable": true,
    "editable": true
   },
   "outputs": [],
   "source": [
    "options = options.split(' ')\n",
    "sys.argv = options\n",
    "args = get_args()"
   ]
  },
  {
   "cell_type": "code",
   "execution_count": 6,
   "metadata": {
    "collapsed": false,
    "deletable": true,
    "editable": true
   },
   "outputs": [
    {
     "data": {
      "text/plain": [
       "Namespace(batch_size=64, bidir=True, cuda=False, d_embed=300, d_hidden=200, dev_every=1550, dropout_emb=0.2, dropout_mlp=0.5, dropout_rnn=0.0, load_model='', lr=0.001, max_vocab_size=15000, model_type='ESIM', n_epochs=15, n_layers=1, n_linear_layers=3, save_model=True, sentence_len=None, val_set='val_matched', word_vectors='glove.6B.300d')"
      ]
     },
     "execution_count": 6,
     "metadata": {},
     "output_type": "execute_result"
    }
   ],
   "source": [
    "args"
   ]
  },
  {
   "cell_type": "markdown",
   "metadata": {
    "deletable": true,
    "editable": true
   },
   "source": [
    "# Build datasets"
   ]
  },
  {
   "cell_type": "code",
   "execution_count": 7,
   "metadata": {
    "collapsed": false,
    "deletable": true,
    "editable": true
   },
   "outputs": [
    {
     "name": "stdout",
     "output_type": "stream",
     "text": [
      "[nltk_data] Downloading package punkt to /scratch/jmw784/nlp-\n",
      "[nltk_data]     multinli/models/nltk_data...\n",
      "[nltk_data]   Package punkt is already up-to-date!\n"
     ]
    }
   ],
   "source": [
    "nltk_path = os.getcwd() + '/nltk_data'\n",
    "nltk.download('punkt', download_dir=nltk_path)\n",
    "nltk.data.path.append(nltk_path)"
   ]
  },
  {
   "cell_type": "code",
   "execution_count": 9,
   "metadata": {
    "collapsed": false,
    "deletable": true,
    "editable": true
   },
   "outputs": [
    {
     "name": "stdout",
     "output_type": "stream",
     "text": [
      "Creating Train Dataset\n",
      "Creating Val_Matched Dataset\n",
      "Generating val_mismatch.tsv file\n",
      "Creating Val_Mismatched Dataset\n"
     ]
    }
   ],
   "source": [
    "text_field = data.Field(tokenize=custom_tokenizer,\n",
    "                        fix_length=args.sentence_len,\n",
    "                        unk_token='<**UNK**>')\n",
    "label_field = data.Field(sequential=False, unk_token=None)\n",
    "\n",
    "train = get_dataset(text_field, label_field, 'train')\n",
    "val_matched = get_dataset(text_field, label_field, 'val_matched')\n",
    "val_unmatched = get_dataset(text_field, label_field, 'val_mismatched')\n",
    "\n",
    "text_field.build_vocab(train, max_size=args.max_vocab_size)\n",
    "label_field.build_vocab(train, val_matched, val_unmatched)"
   ]
  },
  {
   "cell_type": "code",
   "execution_count": 10,
   "metadata": {
    "collapsed": true,
    "deletable": true,
    "editable": true
   },
   "outputs": [],
   "source": [
    "if args.word_vectors:\n",
    "    text_field.vocab.load_vectors(args.word_vectors)"
   ]
  },
  {
   "cell_type": "code",
   "execution_count": 11,
   "metadata": {
    "collapsed": true,
    "deletable": true,
    "editable": true
   },
   "outputs": [],
   "source": [
    "def sort_key(ex):\n",
    "    return data.interleave_keys(len(ex.premise), len(ex.hypothesis))"
   ]
  },
  {
   "cell_type": "code",
   "execution_count": 12,
   "metadata": {
    "collapsed": false,
    "deletable": true,
    "editable": true
   },
   "outputs": [],
   "source": [
    "device = -1\n",
    "train_iter, val_iter_matched, val_iter_unmatched = data.BucketIterator.splits((train, val_matched, val_unmatched),\n",
    "                                            batch_size=args.batch_size,\n",
    "                                            shuffle = False,\n",
    "                                            sort = True,\n",
    "                                            sort_key = sort_key,\n",
    "                                            device=device)"
   ]
  },
  {
   "cell_type": "code",
   "execution_count": 13,
   "metadata": {
    "collapsed": true,
    "deletable": true,
    "editable": true
   },
   "outputs": [],
   "source": [
    "class_map = {0: 'entailment',\n",
    "           1: 'contradiction',\n",
    "           2: 'neutral'}"
   ]
  },
  {
   "cell_type": "markdown",
   "metadata": {
    "deletable": true,
    "editable": true
   },
   "source": [
    "# Load model"
   ]
  },
  {
   "cell_type": "code",
   "execution_count": 14,
   "metadata": {
    "collapsed": false,
    "deletable": true,
    "editable": true
   },
   "outputs": [],
   "source": [
    "saved_model = 'Model_ESIM_acc_72.3790_epoch_5_model.pt'\n",
    "model = torch.load('../saved_models/' + saved_model)"
   ]
  },
  {
   "cell_type": "code",
   "execution_count": 15,
   "metadata": {
    "collapsed": false,
    "deletable": true,
    "editable": true
   },
   "outputs": [
    {
     "data": {
      "text/plain": [
       "ESIM (\n",
       "  (embed): Embedding(15002, 300)\n",
       "  (emb_drop): Dropout (p = 0.2)\n",
       "  (dropout): Dropout (p = 0.5)\n",
       "  (mlp): Linear (1600 -> 200)\n",
       "  (cl): Linear (200 -> 3)\n",
       "  (premise): LSTM(300, 200, bidirectional=True)\n",
       "  (hypothesis): LSTM(300, 200, bidirectional=True)\n",
       "  (v1): LSTM(1600, 200, bidirectional=True)\n",
       "  (v2): LSTM(1600, 200, bidirectional=True)\n",
       ")"
      ]
     },
     "execution_count": 15,
     "metadata": {},
     "output_type": "execute_result"
    }
   ],
   "source": [
    "model"
   ]
  },
  {
   "cell_type": "code",
   "execution_count": 16,
   "metadata": {
    "collapsed": false,
    "deletable": true,
    "editable": true
   },
   "outputs": [],
   "source": [
    "def get_batch(data, batch_size, batch_size_fn=lambda new, count, sofar: count):\n",
    "    \"\"\"Yield elements from data in chunks of batch_size.\"\"\"\n",
    "    minibatch, size_so_far = [], 0\n",
    "    for ex in data:\n",
    "        minibatch.append(ex)\n",
    "        size_so_far = batch_size_fn(ex, len(minibatch), size_so_far)\n",
    "        if size_so_far == batch_size:\n",
    "            yield minibatch\n",
    "            minibatch, size_so_far = [], 0\n",
    "        elif size_so_far > batch_size:\n",
    "            yield minibatch[:-1]\n",
    "            minibatch, size_so_far = minibatch[-1:], batch_size_fn(ex, 1, 0)\n",
    "    if minibatch:\n",
    "        yield minibatch"
   ]
  },
  {
   "cell_type": "code",
   "execution_count": 17,
   "metadata": {
    "collapsed": false,
    "deletable": true,
    "editable": true
   },
   "outputs": [],
   "source": [
    "def evaluate(iterator, model):\n",
    "    real_iter = get_batch(iterator.data(), args.batch_size)\n",
    "    \n",
    "    model.eval()\n",
    "    n_correct = 0\n",
    "    predictions = []\n",
    "    labels = []\n",
    "    \n",
    "    premises = []\n",
    "    hypothesises = []\n",
    "    real_labels = []\n",
    "    \n",
    "    for batch, real_batch in zip(iterator, real_iter):\n",
    "        \n",
    "        real_batch.reverse()\n",
    "        out = model(batch)\n",
    "        batch_predict = torch.max(out, 1)[1].view(batch.label.size()).data\n",
    "        batch_label = batch.label.data\n",
    "        n_correct += (batch_predict == batch_label).sum()\n",
    "        predictions.extend(batch_predict.tolist())\n",
    "        labels.extend(batch_label.tolist())\n",
    "        \n",
    "        premises.extend([x.premise for x in real_batch])\n",
    "        hypothesises.extend([x.hypothesis for x in real_batch])\n",
    "        real_labels.extend([x.label for x in real_batch])\n",
    "                        \n",
    "    return n_correct,\\\n",
    "           np.array(predictions), np.array(labels),\\\n",
    "           np.array(premises), np.array(hypothesises), np.array(real_labels)"
   ]
  },
  {
   "cell_type": "code",
   "execution_count": 18,
   "metadata": {
    "collapsed": false,
    "deletable": true,
    "editable": true
   },
   "outputs": [],
   "source": [
    "def plot_confusion_matrix(true_values, predicted_values,\n",
    "                          class_map = class_map,\n",
    "                          classes = [0, 1, 2], \n",
    "                          normalize=True,\n",
    "                          title='Confusion matrix',\n",
    "                          cmap=plt.cm.Blues):\n",
    "    \"\"\"\n",
    "    This function prints and plots the confusion matrix.\n",
    "    Normalization can be applied by setting `normalize=True`.\n",
    "    \"\"\"\n",
    "    cm = metrics.confusion_matrix(true_values, predicted_values, labels = classes)\n",
    "\n",
    "    fig, ax = plt.subplots(figsize=(8,6))\n",
    "    plt.imshow(cm, interpolation='nearest', cmap=cmap)\n",
    "    ax.set_title(title, fontsize=16, fontweight='bold')\n",
    "    plt.colorbar()\n",
    "    tick_marks = np.arange(len(classes))\n",
    "    plt.xticks(tick_marks, [class_map[i] for i in classes])\n",
    "    plt.yticks(tick_marks, [class_map[i] for i in classes])\n",
    "\n",
    "    if normalize:\n",
    "        cm = np.around(100 * cm.astype('float') / cm.sum(axis=1)[:, np.newaxis], decimals=2)\n",
    "        print(\"Normalized confusion matrix\")\n",
    "    else:\n",
    "        print('Confusion matrix, without normalization')\n",
    "\n",
    "    print(cm)\n",
    "\n",
    "    thresh = cm.max() / 2.\n",
    "    for i, j in itertools.product(range(cm.shape[0]), range(cm.shape[1])):\n",
    "        plt.text(j, i, '{0}%'.format(cm[i, j]),\n",
    "                 horizontalalignment=\"center\",\n",
    "                 color=\"white\" if cm[i, j] > thresh else \"black\",\n",
    "                 size='large')\n",
    "\n",
    "    plt.tight_layout()\n",
    "    plt.ylabel('True label')\n",
    "    plt.xlabel('Predicted label')\n",
    "    ax.yaxis.label.set_size(14)\n",
    "    ax.xaxis.label.set_size(14)\n"
   ]
  },
  {
   "cell_type": "code",
   "execution_count": 19,
   "metadata": {
    "collapsed": false,
    "deletable": true,
    "editable": true
   },
   "outputs": [],
   "source": [
    "n_correct, predictions, labels, premises, hypotheses, real_labels = evaluate(val_iter_matched, model)"
   ]
  },
  {
   "cell_type": "code",
   "execution_count": 21,
   "metadata": {
    "collapsed": false,
    "deletable": true,
    "editable": true
   },
   "outputs": [
    {
     "name": "stdout",
     "output_type": "stream",
     "text": [
      "Accuracy: 72.37901171676006\n"
     ]
    }
   ],
   "source": [
    "accuracy = n_correct / len(val_iter_matched.dataset) * 100\n",
    "print(\"Accuracy: {0}\".format(accuracy))"
   ]
  },
  {
   "cell_type": "code",
   "execution_count": 22,
   "metadata": {
    "collapsed": false,
    "deletable": true,
    "editable": true
   },
   "outputs": [
    {
     "name": "stdout",
     "output_type": "stream",
     "text": [
      "Normalized confusion matrix\n",
      "[[ 76.8    8.65  14.54]\n",
      " [ 12.45  73.36  14.19]\n",
      " [ 17.55  16.01  66.44]]\n"
     ]
    },
    {
     "data": {
      "image/png": "[encoded data removed]",
      "text/plain": [
       "<matplotlib.figure.Figure at 0x2b48b72a0a58>"
      ]
     },
     "metadata": {},
     "output_type": "display_data"
    }
   ],
   "source": [
    "plot_confusion_matrix(labels, predictions, title='%s - %s\\nAccuracy: %0.2f%%'\n",
    "                                                  % (args.model_type, 'val_matched', accuracy))"
   ]
  },
  {
   "cell_type": "code",
   "execution_count": 23,
   "metadata": {
    "collapsed": false,
    "deletable": true,
    "editable": true
   },
   "outputs": [],
   "source": [
    "def print_samples(label, prediction, samples = 5):\n",
    "    idx = np.logical_and(labels == label, predictions == prediction)\n",
    "    n = np.sum(idx)\n",
    "    \n",
    "    selection = np.random.choice(range(n), size=samples)\n",
    "    \n",
    "    p = premises[idx][selection]\n",
    "    h = hypotheses[idx][selection]\n",
    "    \n",
    "    print('TRUE LABEL: %s\\nPREDICTION: %s\\n' % (class_map[label], class_map[prediction]))\n",
    "    \n",
    "    for i in range(samples):\n",
    "        print('Sample %s' % (i+1))\n",
    "        print('Premise: ' + ' '.join(p[i]))\n",
    "        print('Hypothesis: ' + ' '.join(h[i]))\n",
    "        print('-------------------------------------------------------\\n')"
   ]
  },
  {
   "cell_type": "code",
   "execution_count": 24,
   "metadata": {
    "collapsed": false,
    "deletable": true,
    "editable": true
   },
   "outputs": [
    {
     "name": "stdout",
     "output_type": "stream",
     "text": [
      "TRUE LABEL: entailment\n",
      "PREDICTION: entailment\n",
      "\n",
      "Sample 1\n",
      "Premise: and , although i got a ph.d. in philosophy many years ago and have thought and read about these matters ever since , heaven ( or whatever ) knows i do n't have too many answers that i feel confident about .\n",
      "Hypothesis: i have been thinking about this since i earned my degree , but i still do n't know for sure .\n",
      "-------------------------------------------------------\n",
      "\n",
      "Sample 2\n",
      "Premise: the journal put the point succinctly to is any publicity good publicity ?\n",
      "Hypothesis: the journal asked `` is any publicity good publicity ? ''\n",
      "-------------------------------------------------------\n",
      "\n",
      "Sample 3\n",
      "Premise: oh yes how well i know i was laid off last year but i was i was lucky because i was one of the first groups to go\n",
      "Hypothesis: my group was one of the first to get laid off last year .\n",
      "-------------------------------------------------------\n",
      "\n",
      "Sample 4\n",
      "Premise: err ... i do n't know .\n",
      "Hypothesis: i am not sure .\n",
      "-------------------------------------------------------\n",
      "\n",
      "Sample 5\n",
      "Premise: so do you have do you have the long i guess not not if there 's see i was raised in new york but i guess up there you all do n't have too long of a growing season do you\n",
      "Hypothesis: i suppose you have a shorter growing season where you are .\n",
      "-------------------------------------------------------\n",
      "\n",
      "TRUE LABEL: entailment\n",
      "PREDICTION: contradiction\n",
      "\n",
      "Sample 1\n",
      "Premise: tax records show waters earned around $ 65,000 in 2000 .\n",
      "Hypothesis: waters ' tax records show clearly that he earned a lovely $ 65k in 2000 .\n",
      "-------------------------------------------------------\n",
      "\n",
      "Sample 2\n",
      "Premise: named after the city gentleman and infamous burglar , it is one of the best-known pubs in the city .\n",
      "Hypothesis: the well-known pub was named after a burglar .\n",
      "-------------------------------------------------------\n",
      "\n",
      "Sample 3\n",
      "Premise: if anything , ultimate fighting is safer and less cruel than america 's blood sport .\n",
      "Hypothesis: there are things that are more dangerous that ultimate fighting .\n",
      "-------------------------------------------------------\n",
      "\n",
      "Sample 4\n",
      "Premise: together they had a force of 130 attorneys and the responsibility to serve the civil legal needs of about 550,000 poor and vulnerable people throughout the state .\n",
      "Hypothesis: altogether there were 130 lawyers striving to serve 550,000 vulnerable and less fortunate individuals in the state .\n",
      "-------------------------------------------------------\n",
      "\n",
      "Sample 5\n",
      "Premise: together they had a force of 130 attorneys and the responsibility to serve the civil legal needs of about 550,000 poor and vulnerable people throughout the state .\n",
      "Hypothesis: altogether there were 130 lawyers striving to serve 550,000 vulnerable and less fortunate individuals in the state .\n",
      "-------------------------------------------------------\n",
      "\n",
      "TRUE LABEL: contradiction\n",
      "PREDICTION: entailment\n",
      "\n",
      "Sample 1\n",
      "Premise: the great thing is to keep calm . '' julius groaned .\n",
      "Hypothesis: julius was silent .\n",
      "-------------------------------------------------------\n",
      "\n",
      "Sample 2\n",
      "Premise: what 's truly striking , though , is that jobs has never really let this idea go .\n",
      "Hypothesis: jobs never held onto an idea for long .\n",
      "-------------------------------------------------------\n",
      "\n",
      "Sample 3\n",
      "Premise: consider the globe : as the respectable media have become sleazy , the globe has become sleazier .\n",
      "Hypothesis: as the globe gets sleazier , the respectable media becomes less so .\n",
      "-------------------------------------------------------\n",
      "\n",
      "Sample 4\n",
      "Premise: under deng xiaoping , beijing actively sought to cultivate a good bilateral relationship .\n",
      "Hypothesis: beijing sought to create a good distance .\n",
      "-------------------------------------------------------\n",
      "\n",
      "Sample 5\n",
      "Premise: eve 's apple turns out to be a sturdier book than it seems .\n",
      "Hypothesis: eve 's apple is an overrated book .\n",
      "-------------------------------------------------------\n",
      "\n",
      "TRUE LABEL: contradiction\n",
      "PREDICTION: contradiction\n",
      "\n",
      "Sample 1\n",
      "Premise: so they set about clearing the land for agriculture , setting fire to massive tracts of forest .\n",
      "Hypothesis: they were not allowed to deforest for agricultural purposes .\n",
      "-------------------------------------------------------\n",
      "\n",
      "Sample 2\n",
      "Premise: first , get the basics right , that is , the blocking and tackling of financial reporting .\n",
      "Hypothesis: the basics do n't need to be right first .\n",
      "-------------------------------------------------------\n",
      "\n",
      "Sample 3\n",
      "Premise: uh-huh oh yeah all the people for right uh life or something\n",
      "Hypothesis: oh yeah not those people , they have a bad life\n",
      "-------------------------------------------------------\n",
      "\n",
      "Sample 4\n",
      "Premise: i awoke looking up at stone lit by fire .\n",
      "Hypothesis: the fire was out and it was totally dark .\n",
      "-------------------------------------------------------\n",
      "\n",
      "Sample 5\n",
      "Premise: to accommodate these fluctuations and use resources evenly , it would seem reasonable to offer two tiers of rapid and deferred , with air transportation being used for the rapid product .\n",
      "Hypothesis: air transportation is not a feasible option for the rapid production option .\n",
      "-------------------------------------------------------\n",
      "\n"
     ]
    }
   ],
   "source": [
    "for i in range(2):\n",
    "    for j in range(2):\n",
    "        print_samples(i, j)"
   ]
  },
  {
   "cell_type": "code",
   "execution_count": 25,
   "metadata": {
    "collapsed": true,
    "deletable": true,
    "editable": true
   },
   "outputs": [],
   "source": [
    "n_correct, predictions, labels, premises, hypotheses, real_labels = evaluate(val_iter_unmatched, model)"
   ]
  },
  {
   "cell_type": "code",
   "execution_count": 26,
   "metadata": {
    "collapsed": false
   },
   "outputs": [
    {
     "name": "stdout",
     "output_type": "stream",
     "text": [
      "Accuracy: 72.07078925956061\n"
     ]
    }
   ],
   "source": [
    "accuracy = n_correct / len(val_iter_unmatched.dataset) * 100\n",
    "print(\"Accuracy: {0}\".format(accuracy))"
   ]
  },
  {
   "cell_type": "code",
   "execution_count": 27,
   "metadata": {
    "collapsed": false
   },
   "outputs": [
    {
     "name": "stdout",
     "output_type": "stream",
     "text": [
      "Normalized confusion matrix\n",
      "[[ 79.24   7.62  13.14]\n",
      " [ 13.3   71.39  15.31]\n",
      " [ 18.63  16.52  64.84]]\n"
     ]
    },
    {
     "data": {
      "image/png": "[encoded data removed]",
      "text/plain": [
       "<matplotlib.figure.Figure at 0x2b48c18372e8>"
      ]
     },
     "metadata": {},
     "output_type": "display_data"
    }
   ],
   "source": [
    "plot_confusion_matrix(labels, predictions, title='%s - %s\\nAccuracy: %0.2f%%'\n",
    "                                                  % (args.model_type, 'val_mismatched', accuracy))"
   ]
  },
  {
   "cell_type": "code",
   "execution_count": 28,
   "metadata": {
    "collapsed": false
   },
   "outputs": [
    {
     "name": "stdout",
     "output_type": "stream",
     "text": [
      "TRUE LABEL: entailment\n",
      "PREDICTION: entailment\n",
      "\n",
      "Sample 1\n",
      "Premise: if i was n't working here .\n",
      "Hypothesis: if i was working elsewhere than here .\n",
      "-------------------------------------------------------\n",
      "\n",
      "Sample 2\n",
      "Premise: al qaeda helped jemaah islamiya ( ji ) , a nascent organization headed by indonesian islamists with cells scattered across malaysia , singapore , indonesia , and the philippines .\n",
      "Hypothesis: al qaeda had a hand in assisting jemaah islamiya .\n",
      "-------------------------------------------------------\n",
      "\n",
      "Sample 3\n",
      "Premise: i just loved cinderella . i also saw my sisters as the wicked stepsisters sometimes , and i was cinderella , running around waiting on them .\n",
      "Hypothesis: my sisters were very similar in temperament to the wicked stepsisters from cinderella .\n",
      "-------------------------------------------------------\n",
      "\n",
      "Sample 4\n",
      "Premise: excessive stimulation also causes them to withdraw as they try to shield themselves from a stimulus deluge , thereby creating conditions that , paradoxically , are much like stimulus deprivation !\n",
      "Hypothesis: too much stimulation causes them to withdraw , often times forming a stimulus deprivation .\n",
      "-------------------------------------------------------\n",
      "\n",
      "Sample 5\n",
      "Premise: bin ladin also relies heavily on the egyptian writer sayyid qutb .\n",
      "Hypothesis: bin ladin needs the writer sayyid qutb .\n",
      "-------------------------------------------------------\n",
      "\n",
      "TRUE LABEL: entailment\n",
      "PREDICTION: contradiction\n",
      "\n",
      "Sample 1\n",
      "Premise: ted is a single father with three children under 10 .\n",
      "Hypothesis: all of ted 's children are less than the age of 10 .\n",
      "-------------------------------------------------------\n",
      "\n",
      "Sample 2\n",
      "Premise: nothing i re , that i recall .\n",
      "Hypothesis: not anything that i can remember .\n",
      "-------------------------------------------------------\n",
      "\n",
      "Sample 3\n",
      "Premise: and who could blame him ?\n",
      "Hypothesis: why would anyone accuse him ?\n",
      "-------------------------------------------------------\n",
      "\n",
      "Sample 4\n",
      "Premise: boston center immediately advised the new england region that it was going to stop all departures at airports under its control .\n",
      "Hypothesis: new england stopped all flights incoming and out coming .\n",
      "-------------------------------------------------------\n",
      "\n",
      "Sample 5\n",
      "Premise: you can stop .\n",
      "Hypothesis: you do n't have to go on .\n",
      "-------------------------------------------------------\n",
      "\n",
      "TRUE LABEL: contradiction\n",
      "PREDICTION: entailment\n",
      "\n",
      "Sample 1\n",
      "Premise: eventually ramrod became personified , taking on the added meaning of `one marked by rigidity , stiffness , and severity , ' even though the original ramrods , which were straight , were rather flexible .\n",
      "Hypothesis: the original ramrod was wavy but not very easy to bend .\n",
      "-------------------------------------------------------\n",
      "\n",
      "Sample 2\n",
      "Premise: noteworthy , too , are the strategies that have been devised to cope with the limits of our twenty-six letter alphabet .\n",
      "Hypothesis: the strategies were devised to cope with our 29 letter alphabet .\n",
      "-------------------------------------------------------\n",
      "\n",
      "Sample 3\n",
      "Premise: it 's a story from the bible .\n",
      "Hypothesis: it 's a page from the dictionary .\n",
      "-------------------------------------------------------\n",
      "\n",
      "Sample 4\n",
      "Premise: about someone who is in complete charge of a project , they could say , he runs things completely !\n",
      "Hypothesis: 'he is completely useless ! ' , is what they could say about someone who is in complete charge of a project .\n",
      "-------------------------------------------------------\n",
      "\n",
      "Sample 5\n",
      "Premise: she got gangrene in her foot and he said if you do n't quit smoking you 're going to lose your foot .\n",
      "Hypothesis: she will not lose her foot if she keeps smoking .\n",
      "-------------------------------------------------------\n",
      "\n",
      "TRUE LABEL: contradiction\n",
      "PREDICTION: contradiction\n",
      "\n",
      "Sample 1\n",
      "Premise: all five hijackers passed through the main terminal 's west security screening checkpoint ; united airlines , which was the responsible air carrier , had contracted out the work to argenbright security .\n",
      "Hypothesis: none of the hijackers were able to pass the security screening checkpoint .\n",
      "-------------------------------------------------------\n",
      "\n",
      "Sample 2\n",
      "Premise: she said , i mean , a huge group !\n",
      "Hypothesis: she told me not many people came .\n",
      "-------------------------------------------------------\n",
      "\n",
      "Sample 3\n",
      "Premise: the reasons are technical , arising from the way the software processed radar information , as well as from poor primary radar coverage where american 77 was flying .\n",
      "Hypothesis: everything on the plane was working up to standard and did not contribute to the difficulty in locating it .\n",
      "-------------------------------------------------------\n",
      "\n",
      "Sample 4\n",
      "Premise: you can help make this valuable program available to many persons who are not currently benefiting from dental care .\n",
      "Hypothesis: everyone is currently benefitting from dental care from this program .\n",
      "-------------------------------------------------------\n",
      "\n",
      "Sample 5\n",
      "Premise: your donation to the herron school of art and gallery is crucial to this goal .\n",
      "Hypothesis: we do n't need your donation actually .\n",
      "-------------------------------------------------------\n",
      "\n"
     ]
    }
   ],
   "source": [
    "for i in range(2):\n",
    "    for j in range(2):\n",
    "        print_samples(i, j)"
   ]
  },
  {
   "cell_type": "code",
   "execution_count": null,
   "metadata": {
    "collapsed": true
   },
   "outputs": [],
   "source": []
  }
 ],
 "metadata": {
  "kernelspec": {
   "display_name": "Python 3",
   "language": "python",
   "name": "python3"
  },
  "language_info": {
   "codemirror_mode": {
    "name": "ipython",
    "version": 3
   },
   "file_extension": ".py",
   "mimetype": "text/x-python",
   "name": "python",
   "nbconvert_exporter": "python",
   "pygments_lexer": "ipython3",
   "version": "3.5.3"
  }
 },
 "nbformat": 4,
 "nbformat_minor": 2
}
